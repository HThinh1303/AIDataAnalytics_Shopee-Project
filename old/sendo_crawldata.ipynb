{
 "cells": [
  {
   "cell_type": "code",
   "execution_count": 89,
   "metadata": {},
   "outputs": [],
   "source": [
    "import requests\n",
    "from tqdm import tqdm\n",
    "import pandas as pd"
   ]
  },
  {
   "cell_type": "code",
   "execution_count": 2,
   "metadata": {},
   "outputs": [],
   "source": [
    "headers = {\n",
    "    'Accept': '*/*',\n",
    "    'Accept-Language': 'en-US,en;q=0.9',\n",
    "    'User-Agent': 'Mozilla/5.0 (Windows NT 10.0; Win64; x64) AppleWebKit/537.36 (KHTML, like Gecko) Chrome/117.0.0.0\\\n",
    "          Safari/537.36 Edg/117.0.2045.31'\n",
    "}"
   ]
  },
  {
   "cell_type": "code",
   "execution_count": 4,
   "metadata": {},
   "outputs": [
    {
     "data": {
      "text/plain": [
       "[{'link': '/tai-nghe-bluetooth.htm',\n",
       "  'name': 'tại nghe bluetooth',\n",
       "  'q': 'tại nghe bluetooth',\n",
       "  'image': 'https://media3.scdn.vn/img4/2022/05_22/sBh3V4EbkVMS0B0wIbLh_simg_3a7818_100x100_maxb.jpg',\n",
       "  'total_count': 21170,\n",
       "  'deeplink': 'https://www.sendo.vn/tim-kiem/?q=t%E1%BA%A1i%20nghe%20bluetooth'},\n",
       " {'link': '/vay-tien-online-nhanh-nhat.htm',\n",
       "  'name': 'vay tiền online nhanh nhất',\n",
       "  'q': 'vay tiền online nhanh nhất',\n",
       "  'image': 'https://media3.scdn.vn/img4/2021/12_29/J8nXNzJ722zCjg5jimAi_simg_3a7818_100x100_maxb.jpg',\n",
       "  'total_count': 1,\n",
       "  'deeplink': 'https://www.sendo.vn/tim-kiem/?q=vay%20ti%E1%BB%81n%20online%20nhanh%20nh%E1%BA%A5t'},\n",
       " {'link': '/dong-ho.htm',\n",
       "  'name': 'đồng hồ',\n",
       "  'q': 'đồng hồ',\n",
       "  'image': 'https://media3.scdn.vn/img4/2020/02_27/INStWKHr28iujsHPwMj0_simg_3a7818_100x100_maxb.jpg',\n",
       "  'total_count': 68687,\n",
       "  'deeplink': 'https://www.sendo.vn/tim-kiem/?q=%C4%91%E1%BB%93ng%20h%E1%BB%93'},\n",
       " {'link': '/gian-phun-vien.htm',\n",
       "  'name': 'giàn phun viên',\n",
       "  'q': 'giàn phun viên',\n",
       "  'image': 'https://media3.scdn.vn/img4/2022/01_28/vIuKRDEf4wCD4JIfG63B_simg_3a7818_100x100_maxb.jpg',\n",
       "  'total_count': 116,\n",
       "  'deeplink': 'https://www.sendo.vn/tim-kiem/?q=gi%C3%A0n%20phun%20vi%C3%AAn'},\n",
       " {'link': '/the-game-garena.htm',\n",
       "  'name': 'thẻ game garena',\n",
       "  'q': 'thẻ game garena',\n",
       "  'image': 'https://media3.scdn.vn/img4/2021/08_19/QlvA7CD9tIYrmwWVgheW_simg_3a7818_100x100_maxb.jpg',\n",
       "  'total_count': 160,\n",
       "  'deeplink': 'https://www.sendo.vn/tim-kiem/?q=th%E1%BA%BB%20game%20garena'},\n",
       " {'link': '/quan-lot-nu.htm',\n",
       "  'name': 'quần lót nữ',\n",
       "  'q': 'quần lót nữ',\n",
       "  'image': 'https://media3.scdn.vn/img4/2020/03_11/c4UCyokqC0bBGTotgd2v_simg_3a7818_100x100_maxb.jpg',\n",
       "  'total_count': 76346,\n",
       "  'deeplink': 'https://www.sendo.vn/tim-kiem/?q=qu%E1%BA%A7n%20l%C3%B3t%20n%E1%BB%AF'},\n",
       " {'link': '/may-massage-cam-tay.htm',\n",
       "  'name': 'máy massage cầm tay',\n",
       "  'q': 'máy massage cầm tay',\n",
       "  'image': 'https://media3.scdn.vn/img3/2019/1_29/AfvjBT_simg_3a7818_100x100_maxb.jpg',\n",
       "  'total_count': 93484,\n",
       "  'deeplink': 'https://www.sendo.vn/tim-kiem/?q=m%C3%A1y%20massage%20c%E1%BA%A7m%20tay'},\n",
       " {'link': '/giay-luoi-nam.htm',\n",
       "  'name': 'giày lười nam',\n",
       "  'q': 'giày lười nam',\n",
       "  'image': 'https://media3.scdn.vn/img4/2020/04_03/G6CT4eMz5J82OoOVrVYl_simg_3a7818_100x100_maxb.jpg',\n",
       "  'total_count': 90272,\n",
       "  'deeplink': 'https://www.sendo.vn/tim-kiem/?q=gi%C3%A0y%20l%C6%B0%E1%BB%9Di%20nam'},\n",
       " {'link': '/khau-trang.htm',\n",
       "  'name': 'khẩu trang',\n",
       "  'q': 'khẩu trang',\n",
       "  'image': 'https://media3.scdn.vn/img4/2020/08_08/8v1lamT7Y0xr4yDHvvE1_simg_3a7818_100x100_maxb.jpg',\n",
       "  'total_count': 11225,\n",
       "  'deeplink': 'https://www.sendo.vn/tim-kiem/?q=kh%E1%BA%A9u%20trang'},\n",
       " {'link': '/may-rua-xe-cao-ap.htm',\n",
       "  'name': 'máy rửa xe cao áp',\n",
       "  'q': 'máy rửa xe cao áp',\n",
       "  'image': 'https://media3.scdn.vn/img4/2021/08_02/xsrsQRyoLnOaWEnEy9JO_simg_3a7818_100x100_maxb.jpg',\n",
       "  'total_count': 25139,\n",
       "  'deeplink': 'https://www.sendo.vn/tim-kiem/?q=m%C3%A1y%20r%E1%BB%ADa%20xe%20cao%20%C3%A1p'},\n",
       " {'link': '/giay-nam.htm',\n",
       "  'name': 'giầy nam',\n",
       "  'q': 'giầy nam',\n",
       "  'image': 'https://media3.scdn.vn/img4/2020/11_18/FM5owB9Rttr57edRcFaX_simg_3a7818_100x100_maxb.jpg',\n",
       "  'total_count': 79633,\n",
       "  'deeplink': 'https://www.sendo.vn/tim-kiem/?q=gi%E1%BA%A7y%20nam'},\n",
       " {'link': '/phao-hoa-36-qua.htm',\n",
       "  'name': 'pháo hoa 36 quả',\n",
       "  'q': 'pháo hoa 36 quả',\n",
       "  'image': 'https://media3.scdn.vn/img2/2018/8_2/FK5EaH_simg_3a7818_100x100_maxb.jpg',\n",
       "  'total_count': 12767,\n",
       "  'deeplink': 'https://www.sendo.vn/tim-kiem/?q=ph%C3%A1o%20hoa%2036%20qu%E1%BA%A3'},\n",
       " {'link': '/quan-dui-nam.htm',\n",
       "  'name': 'quần đùi nam',\n",
       "  'q': 'quần đùi nam',\n",
       "  'image': 'https://media3.scdn.vn/img4/2021/09_08/GvIxfZiB6UmuKXhxyJWf_simg_3a7818_100x100_maxb.jpg',\n",
       "  'total_count': 58373,\n",
       "  'deeplink': 'https://www.sendo.vn/tim-kiem/?q=qu%E1%BA%A7n%20%C4%91%C3%B9i%20nam'},\n",
       " {'link': '/may-bay-dieu-khien-tu-xa.htm',\n",
       "  'name': 'máy bay điều khiển từ xa',\n",
       "  'q': 'máy bay điều khiển từ xa',\n",
       "  'image': 'https://media3.scdn.vn/img3/2018/12_21/abD4KP_simg_3a7818_100x100_maxb.jpg',\n",
       "  'total_count': 14964,\n",
       "  'deeplink': 'https://www.sendo.vn/tim-kiem/?q=m%C3%A1y%20bay%20%C4%91i%E1%BB%81u%20khi%E1%BB%83n%20t%E1%BB%AB%20xa'},\n",
       " {'link': '/giay-the-thao-nam.htm',\n",
       "  'name': 'giày thể thao nam',\n",
       "  'q': 'giày thể thao nam',\n",
       "  'image': 'https://media3.scdn.vn/img4/2022/11_04/cDZk2nr7rnnntbPq5dUZ_simg_3a7818_100x100_maxb.jpg',\n",
       "  'total_count': 145024,\n",
       "  'deeplink': 'https://www.sendo.vn/tim-kiem/?q=gi%C3%A0y%20th%E1%BB%83%20thao%20nam'},\n",
       " {'link': '/loa-vi-tinh.htm',\n",
       "  'name': 'loa vi tính',\n",
       "  'q': 'loa vi tính',\n",
       "  'image': 'https://media3.scdn.vn/img4/2020/09_09/UNwTtjEB8Bfncc2SjVMp_simg_3a7818_100x100_maxb.jpg',\n",
       "  'total_count': 12133,\n",
       "  'deeplink': 'https://www.sendo.vn/tim-kiem/?q=loa%20vi%20t%C3%ADnh'}]"
      ]
     },
     "execution_count": 4,
     "metadata": {},
     "output_type": "execute_result"
    }
   ],
   "source": [
    "result = []\n",
    "link = 'https://mapi.sendo.vn/wap_v2/home/top-keyword'\n",
    "request = requests.get(link,headers= headers)\n",
    "if request.status_code == 200:\n",
    "        for raw_data in request.json().get('result').get('data'):\n",
    "            result.append(raw_data)\n",
    "\n",
    "result"
   ]
  },
  {
   "cell_type": "code",
   "execution_count": 87,
   "metadata": {},
   "outputs": [],
   "source": [
    "payload = {\n",
    "    'page': 1,\n",
    "    'size': 60\n",
    "}\n",
    "headers_2 = {\n",
    "    # 'authority': 'searchlist-api.sendo.vn',\n",
    "    # 'method': 'GET',\n",
    "    # 'path': '/web/products?q=dell&platform=web&page=1&size=60&sortType=rank&search_type=&app_ver=2.32.71&track_id=aa14e67e-3d3f-42d9-a1bf-71fb333d9e3c&\\\n",
    "    #     search_suggestion_list=&search_textbox_string=&click_suggestion_index=',\n",
    "    # 'scheme': 'https',\n",
    "    'Accept': '*/*',\n",
    "    # 'Accept-Encoding': 'gzip, deflate, br',\n",
    "    'Accept-Language': 'en-US,en;q=0.9',\n",
    "    'Cookie': 'gid=GA1.2.398937247.1695208196; _gcl_au=1.1.513166238.1695208196; _tt_enable_cookie=1; ttp=p-8sNC19OWBqqasG7Mt7f0cReoo; access_token=AMFdF3k0hTFTbUIehUn3gbzZX6TnP8Bu5dNlZdEswO4OMMMloV8gKTuE4zw55NJOsYWyP4lY2Nib1cYpD%2BXcRugzqJ16XABLtxZnKa0%2F%2BsfkLoIGfy4ZVfkbV2lx1EbYc79z66WQ6l6A1%2B0TXVL7HvR7frTWsS3ox5StAU4Ygio%3D; login_by=username; __utma=147100981.1133820760.1695208196.1695208196.1695258204.2; __utmz=147100981.1695258204.2.2.utmcsr=bing|utmccn=(organic)|utmcmd=organic|utmctr=(not%20provided); client_id=4700b3a1-8bb9-46a0-9049-312ee4fbfb02; tracking_id=aa14e67e-3d3f-42d9-a1bf-71fb333d9e3c; __utmc=147100981; __utmb=147100981.13.10.1695258204; _dc_gtm_UA-32891946-6=1; session_id=qGMoYVyvsEovzVDnvktgPWVwyYNRRdcx; csrf_token=s1bTKa841WsFl0dSlvorC7snnLsvBdY3DmgZqnTFyf4=; _ga_4GYS4WLTFH=GS1.2.1695258204.2.1.1695262028.60.0.0; _ga_M8HGEHNMYC=GS1.1.1695258218.2.1.1695262028.0.0.0; _ga=GA1.2.1133820760.1695208196; _gat_gtag_UA_32891946_20=1; _ga_28PQS3WTN0=GS1.1.1695258204.1.1.1695262045.42.0.0',\n",
    "    'Origin': 'https://www.sendo.vn',\n",
    "    'Referer': 'https://www.sendo.vn/',\n",
    "    'Sec-Ch-Ua': '\"Microsoft Edge\";v=\"117\", \"Not;A=Brand\";v=\"8\", \"Chromium\";v=\"117\"',\n",
    "    'Sec-Ch-Ua-Mobile': '?0',\n",
    "    'Sec-Ch-Ua-Platform': \"Windows\",\n",
    "    'Sec-Fetch-Dest': 'empty',\n",
    "    'Sec-Fetch-Mode': 'cors',\n",
    "    'Sec-Fetch-Site': 'same-site',\n",
    "    'User-Agent': 'Mozilla/5.0 (Windows NT 10.0; Win64; x64) AppleWebKit/537.36 (KHTML, like Gecko) Chrome/117.0.0.0 Safari/537.36 Edg/117.0.2045.31'\n",
    "}\n",
    "    "
   ]
  },
  {
   "cell_type": "code",
   "execution_count": 91,
   "metadata": {},
   "outputs": [
    {
     "name": "stderr",
     "output_type": "stream",
     "text": [
      " 11%|█         | 1/9 [00:00<00:05,  1.58it/s]"
     ]
    },
    {
     "name": "stdout",
     "output_type": "stream",
     "text": [
      "Request page 2 success!!!\n"
     ]
    },
    {
     "name": "stderr",
     "output_type": "stream",
     "text": [
      " 22%|██▏       | 2/9 [00:01<00:06,  1.02it/s]"
     ]
    },
    {
     "name": "stdout",
     "output_type": "stream",
     "text": [
      "Request page 3 success!!!\n"
     ]
    },
    {
     "name": "stderr",
     "output_type": "stream",
     "text": [
      " 33%|███▎      | 3/9 [00:02<00:05,  1.09it/s]"
     ]
    },
    {
     "name": "stdout",
     "output_type": "stream",
     "text": [
      "Request page 4 success!!!\n"
     ]
    },
    {
     "name": "stderr",
     "output_type": "stream",
     "text": [
      " 44%|████▍     | 4/9 [00:04<00:05,  1.17s/it]"
     ]
    },
    {
     "name": "stdout",
     "output_type": "stream",
     "text": [
      "Request page 5 success!!!\n"
     ]
    },
    {
     "name": "stderr",
     "output_type": "stream",
     "text": [
      " 56%|█████▌    | 5/9 [00:05<00:04,  1.07s/it]"
     ]
    },
    {
     "name": "stdout",
     "output_type": "stream",
     "text": [
      "Request page 6 success!!!\n"
     ]
    },
    {
     "name": "stderr",
     "output_type": "stream",
     "text": [
      " 67%|██████▋   | 6/9 [00:06<00:03,  1.16s/it]"
     ]
    },
    {
     "name": "stdout",
     "output_type": "stream",
     "text": [
      "Request page 7 success!!!\n"
     ]
    },
    {
     "name": "stderr",
     "output_type": "stream",
     "text": [
      " 78%|███████▊  | 7/9 [00:08<00:03,  1.50s/it]"
     ]
    },
    {
     "name": "stdout",
     "output_type": "stream",
     "text": [
      "Request page 8 success!!!\n"
     ]
    },
    {
     "name": "stderr",
     "output_type": "stream",
     "text": [
      " 89%|████████▉ | 8/9 [00:09<00:01,  1.26s/it]"
     ]
    },
    {
     "name": "stdout",
     "output_type": "stream",
     "text": [
      "Request page 9 success!!!\n"
     ]
    },
    {
     "name": "stderr",
     "output_type": "stream",
     "text": [
      "100%|██████████| 9/9 [00:10<00:00,  1.20s/it]"
     ]
    },
    {
     "name": "stdout",
     "output_type": "stream",
     "text": [
      "Request page 10 success!!!\n"
     ]
    },
    {
     "name": "stderr",
     "output_type": "stream",
     "text": [
      "\n"
     ]
    }
   ],
   "source": [
    "total_pages = 10\n",
    "link = 'https://searchlist-api.sendo.vn/web/products?q=t%E1%BA%A1i%20nghe%20bluetooth&platform=web&sortType=rank&search_type=&app_ver=2.32.71&track_id=aa14e67e-3d3f-42d9-a1bf-71fb333d9e3c&search_suggestion_list=&search_textbox_string=&click_suggestion_index='\n",
    "\n",
    "result = []\n",
    "for i in tqdm(range(1,total_pages)):\n",
    "    payload['page'] = i\n",
    "    request = requests.get(link,json = payload, headers = headers_2)\n",
    "    if request.status_code == 200:\n",
    "        print('Request page {} success!!!'.format(i+1)) \n",
    "        for raw_data in request.json().get('data'):\n",
    "            result.append(raw_data)\n",
    "df = pd.DataFrame(result)\n",
    "df.to_csv('data/raw_data.csv',index=False)  "
   ]
  },
  {
   "cell_type": "code",
   "execution_count": 92,
   "metadata": {},
   "outputs": [],
   "source": [
    "headers_3 = {\n",
    "    'Accept': '*/*',\n",
    "    # 'Accept-Encoding': 'gzip, deflate, br',\n",
    "    'Accept-Language': 'en-US,en;q=0.9',\n",
    "    'Cookie': '_gid=GA1.2.398937247.1695208196; _gcl_au=1.1.513166238.1695208196; _tt_enable_cookie=1; _ttp=p-8sNC19OWBqqasG7Mt7f0cReoo; access_token=AMFdF3k0hTFTbUIehUn3gbzZX6TnP8Bu5dNlZdEswO4OMMMloV8gKTuE4zw55NJOsYWyP4lY2Nib1cYpD%2BXcRugzqJ16XABLtxZnKa0%2F%2BsfkLoIGfy4ZVfkbV2lx1EbYc79z66WQ6l6A1%2B0TXVL7HvR7frTWsS3ox5StAU4Ygio%3D; login_by=username; __utmz=147100981.1695258204.2.2.utmcsr=bing|utmccn=(organic)|utmcmd=organic|utmctr=(not%20provided); client_id=4700b3a1-8bb9-46a0-9049-312ee4fbfb02; tracking_id=aa14e67e-3d3f-42d9-a1bf-71fb333d9e3c; __utmc=147100981; __utma=147100981.1133820760.1695208196.1695275639.1695282892.4; __utmt=1; __utmb=147100981.3.10.1695282892; session_id=qofDYTQHEEJuVlAFQoRYTZJtWPGvIfds; csrf_token=KarNoAvAQ/exgc16axruzaauttCIH5tootZcCbkBgm8=; _ga_4GYS4WLTFH=GS1.2.1695282892.4.1.1695283004.30.0.0; _ga_M8HGEHNMYC=GS1.1.1695282913.4.1.1695283006.0.0.0; _ga=GA1.1.1133820760.1695208196; _ga_28PQS3WTN0=GS1.1.1695282887.2.1.1695283071.60.0.0',\n",
    "    'Origin': 'https://www.sendo.vn',\n",
    "    'Referer': 'https://www.sendo.vn/',\n",
    "    'Sec-Ch-Ua': '\"Microsoft Edge\";v=\"117\", \"Not;A=Brand\";v=\"8\", \"Chromium\";v=\"117\"',\n",
    "    'Sec-Ch-Ua-Mobile': '?0',\n",
    "    'Sec-Ch-Ua-Platform': \"Windows\",\n",
    "    'Sec-Fetch-Dest': 'empty',\n",
    "    'Sec-Fetch-Mode': 'cors',\n",
    "    'Sec-Fetch-Site': 'same-site',\n",
    "    'User-Agent': 'Mozilla/5.0 (Windows NT 10.0; Win64; x64) AppleWebKit/537.36 (KHTML, like Gecko) Chrome/117.0.0.0 Safari/537.36 Edg/117.0.2045.31'\n",
    "}"
   ]
  },
  {
   "cell_type": "code",
   "execution_count": 96,
   "metadata": {},
   "outputs": [
    {
     "data": {
      "text/plain": [
       "[{'id': 40893817,\n",
       "  'name': 'Tai nghe bluetooth Amoi f95, bluetooth 5.0, điều khiển cảm ứng, màn hình led hiển thị, chống thấm nước Ipx7, tự động kết nối, tương thích với mọi hệ điều hành',\n",
       "  'uid': 'get_basic_product_40893817',\n",
       "  'sku_user': 'Tai nghe bluetooth amoi f9 5',\n",
       "  'cat_path': 'tai-nghe-bluetooth-amoi-f95-bluetooth-50-dieu-khien-cam-ung-man-hinh-led-hien-thi-chong-tham-nuoc-ipx7-tu-dong-ket-noi-tuong-thich-voi-moi-he-dieu-hanh-40893817.html',\n",
       "  'url_key': 'tai-nghe-bluetooth-amoi-f95-bluetooth-50-dieu-khien-cam-ung-man-hinh-led-hien-thi-chong-tham-nuoc-ipx7-tu-dong-ket-noi-tuong-thich-voi-moi-he-dieu-hanh-40893817',\n",
       "  'price': 169000,\n",
       "  'price_max': 169000,\n",
       "  'final_price': 69000,\n",
       "  'final_price_max': 69000,\n",
       "  'order_count': 1974,\n",
       "  'image': 'https://media3.scdn.vn/img4/2021/12_29/GFaSy5wcOx5fknFc8vWb_simg_b5529c_250x250_maxb.jpg',\n",
       "  'category_id': '1/2/3228/3235/3237',\n",
       "  'short_description': '\\xa0\\n\\xa0\\n\\nTAI NGHE BLUETOOTH F95\\n🔷Nâng cấp bluetooth 5.0 cho kết nối ổn định, tiết kiệm pin, khoảng cách kết nối lên 10m\\n🔷Màn hình led hiển thị dung lượng pin cực rõ và đầy đủ thông tin\\n🔷Kèn sạc 2000mAh , kiêm sạc dự phòng, kết hợp sạc nhanh\\n🔷 Chống nước ',\n",
       "  'category_info': [{'id': 3228,\n",
       "    'title': 'Thiết bị âm thanh',\n",
       "    'path': 'thiet-bi-am-thanh',\n",
       "    'url_key': 'thiet-bi-am-thanh'},\n",
       "   {'id': 3235,\n",
       "    'title': 'Tai nghe',\n",
       "    'path': 'thiet-bi-am-thanh/tai-nghe',\n",
       "    'url_key': 'tai-nghe'},\n",
       "   {'id': 3237,\n",
       "    'title': 'Tai nghe bluetooth',\n",
       "    'path': 'thiet-bi-am-thanh/tai-nghe/tai-nghe-bluetooth',\n",
       "    'url_key': 'tai-nghe-bluetooth'}],\n",
       "  'shop_info': {'shop_id': 624827,\n",
       "   'shop_name': 'Bách Hoá Online 18',\n",
       "   'shop_logo': 'https://media3.scdn.vn/img4/2021/06_22/ZXk7KhxOpdVRREc5rAji.jpg',\n",
       "   'good_review_percent': 0,\n",
       "   'score': 0,\n",
       "   'customer_id': 2029483355,\n",
       "   'phone_number': '0943995293',\n",
       "   'rating_avg': 4.6,\n",
       "   'rating_count': 2167,\n",
       "   'response_time': 'Ít khi trả lời',\n",
       "   'product_total': 56,\n",
       "   'sale_on_sendo': '4 năm',\n",
       "   'percent_response': '--',\n",
       "   'shop_badge_urls': [{'type': 'shop_plus',\n",
       "     'icon': 'https://media3.scdn.vn/img4/2020/07_30/h6fJaiL5WkEbDU2eQRZb.png'}],\n",
       "   'shop_url': 'shop/bach-hoa-online-18',\n",
       "   'time_prepare_product': '1 ngày',\n",
       "   'warehourse_region_name': 'Nam Định'},\n",
       "  'product_mall': 0,\n",
       "  'quantity': 9018,\n",
       "  'stock_status': 1,\n",
       "  'status': 2,\n",
       "  'is_express': False,\n",
       "  'is_installment': False,\n",
       "  'is_pay_later': False,\n",
       "  'is_flash_deal': True,\n",
       "  'promotion_percent': 60,\n",
       "  'discount_app': 2,\n",
       "  'active_event_frame': 'clear_sale',\n",
       "  'media': [{'video_url': 'https://vs.scdn.vn/eos/624827/smil:1612326715160_hzfzk7/playlist.m3u8',\n",
       "    'video_thumb': 'https://iv.scdn.vn/vod-thumbnail/624827/1612326715160_hzfzk7.jpg',\n",
       "    'type': 'video'},\n",
       "   {'image': 'https://media3.scdn.vn/img4/2021/12_29/GFaSy5wcOx5fknFc8vWb.jpg',\n",
       "    'image_500x500': 'https://media3.scdn.vn/img4/2021/12_29/GFaSy5wcOx5fknFc8vWb_simg_de2fe0_500x500_maxb.jpg',\n",
       "    'image_50x50': 'https://media3.scdn.vn/img4/2021/12_29/GFaSy5wcOx5fknFc8vWb_simg_02d57e_50x50_maxb.jpg',\n",
       "    'type': 'image'},\n",
       "   {'image': 'https://media3.scdn.vn/img4/2021/06_16/hLPzIRHzLEluSqpEKWFV.jpg',\n",
       "    'image_500x500': 'https://media3.scdn.vn/img4/2021/06_16/hLPzIRHzLEluSqpEKWFV_simg_de2fe0_500x500_maxb.jpg',\n",
       "    'image_50x50': 'https://media3.scdn.vn/img4/2021/06_16/hLPzIRHzLEluSqpEKWFV_simg_02d57e_50x50_maxb.jpg',\n",
       "    'type': 'image'},\n",
       "   {'image': 'https://media3.scdn.vn/img4/2021/06_16/QuTmxAtNNmhsLhFXGFul.jpg',\n",
       "    'image_500x500': 'https://media3.scdn.vn/img4/2021/06_16/QuTmxAtNNmhsLhFXGFul_simg_de2fe0_500x500_maxb.jpg',\n",
       "    'image_50x50': 'https://media3.scdn.vn/img4/2021/06_16/QuTmxAtNNmhsLhFXGFul_simg_02d57e_50x50_maxb.jpg',\n",
       "    'type': 'image'},\n",
       "   {'image': 'https://media3.scdn.vn/img4/2021/06_16/gla9tHYAcFs9DjLyVVJy.jpg',\n",
       "    'image_500x500': 'https://media3.scdn.vn/img4/2021/06_16/gla9tHYAcFs9DjLyVVJy_simg_de2fe0_500x500_maxb.jpg',\n",
       "    'image_50x50': 'https://media3.scdn.vn/img4/2021/06_16/gla9tHYAcFs9DjLyVVJy_simg_02d57e_50x50_maxb.jpg',\n",
       "    'type': 'image'},\n",
       "   {'image': 'https://media3.scdn.vn/img4/2021/06_16/czlWwVwYKMdjVcRKfamr.jpg',\n",
       "    'image_500x500': 'https://media3.scdn.vn/img4/2021/06_16/czlWwVwYKMdjVcRKfamr_simg_de2fe0_500x500_maxb.jpg',\n",
       "    'image_50x50': 'https://media3.scdn.vn/img4/2021/06_16/czlWwVwYKMdjVcRKfamr_simg_02d57e_50x50_maxb.jpg',\n",
       "    'type': 'image'},\n",
       "   {'image': 'https://media3.scdn.vn/img4/2021/06_16/pzXsLXobfttm7hmz2vNT.jpg',\n",
       "    'image_500x500': 'https://media3.scdn.vn/img4/2021/06_16/pzXsLXobfttm7hmz2vNT_simg_de2fe0_500x500_maxb.jpg',\n",
       "    'image_50x50': 'https://media3.scdn.vn/img4/2021/06_16/pzXsLXobfttm7hmz2vNT_simg_02d57e_50x50_maxb.jpg',\n",
       "    'type': 'image'},\n",
       "   {'image': 'https://media3.scdn.vn/img4/2021/06_16/iGCE2nfLp6U9It5d0tEn.jpg',\n",
       "    'image_500x500': 'https://media3.scdn.vn/img4/2021/06_16/iGCE2nfLp6U9It5d0tEn_simg_de2fe0_500x500_maxb.jpg',\n",
       "    'image_50x50': 'https://media3.scdn.vn/img4/2021/06_16/iGCE2nfLp6U9It5d0tEn_simg_02d57e_50x50_maxb.jpg',\n",
       "    'type': 'image'},\n",
       "   {'image': 'https://media3.scdn.vn/img4/2021/06_16/kmOfFJECTawpfDP4pACV.jpg',\n",
       "    'image_500x500': 'https://media3.scdn.vn/img4/2021/06_16/kmOfFJECTawpfDP4pACV_simg_de2fe0_500x500_maxb.jpg',\n",
       "    'image_50x50': 'https://media3.scdn.vn/img4/2021/06_16/kmOfFJECTawpfDP4pACV_simg_02d57e_50x50_maxb.jpg',\n",
       "    'type': 'image'},\n",
       "   {'image': 'https://media3.scdn.vn/img4/2021/06_16/EPrcbUq2ZzTQReAirBJf.jpg',\n",
       "    'image_500x500': 'https://media3.scdn.vn/img4/2021/06_16/EPrcbUq2ZzTQReAirBJf_simg_de2fe0_500x500_maxb.jpg',\n",
       "    'image_50x50': 'https://media3.scdn.vn/img4/2021/06_16/EPrcbUq2ZzTQReAirBJf_simg_02d57e_50x50_maxb.jpg',\n",
       "    'type': 'image'},\n",
       "   {'image': 'https://media3.scdn.vn/img4/2021/06_16/jhqIO4STWuxvRJJXdzKr.jpg',\n",
       "    'image_500x500': 'https://media3.scdn.vn/img4/2021/06_16/jhqIO4STWuxvRJJXdzKr_simg_de2fe0_500x500_maxb.jpg',\n",
       "    'image_50x50': 'https://media3.scdn.vn/img4/2021/06_16/jhqIO4STWuxvRJJXdzKr_simg_02d57e_50x50_maxb.jpg',\n",
       "    'type': 'image'}],\n",
       "  'return_policy': [{'title': '48 giờ hoàn trả',\n",
       "    'color': '#e82f3a',\n",
       "    'icon': 'FortyEight',\n",
       "    'tooltip_title': 'Chính sách hoàn trả của Sendo',\n",
       "    'tooltip_content': '<div class=\"policy-container\" style=\"line-height: 1.4;\"> <ul style=\"list-style: disc inside none; padding-left: 0; margin: 0;\"> Trả hàng hoàn tiền trong vòng 48 giờ cho các sản phẩm bị lỗi kỹ thuật, bể vỡ, không đúng mô tả hoặc không đúng như đơn đặt hàng.</ul> </div>',\n",
       "    'is_installment': False},\n",
       "   {'title': 'Bảo hành theo chính sách từ Nhà bán hàng',\n",
       "    'color': '#1cac93',\n",
       "    'icon': 'DupCheck',\n",
       "    'tooltip_title': 'Bảo hành theo chính sách từ Nhà bán hàng',\n",
       "    'tooltip_content': '<div class=\"policy-container\" style=\"line-height: 1.4;\"> <p>Sendo sẽ xử lý các khiếu nại phát sinh liên quan đến sản phẩm hư hỏng hoặc có lỗi từ nhà bán hàng. Về điều kiện bảo hành sản phẩm sẽ tuân thủ theo chính sách từ Nhà bán hàng</p> </div>',\n",
       "    'is_installment': False}],\n",
       "  'description_info': {'attributes': [{'name': 'Loại tai nghe',\n",
       "     'value': 'Nhét tai (in-ear)'},\n",
       "    {'name': 'Hãng sản xuất', 'value': 'KHÁC'},\n",
       "    {'name': 'Bảo hành', 'value': '6 tháng'},\n",
       "    {'name': 'Phương thức bảo hành', 'value': 'Bảo hành điện tử'}],\n",
       "   'description': '<p style=\"text-align: center;\">\\xa0</p>\\n<p style=\"text-align: center;\">\\xa0</p>\\n<p style=\"color: #212529; font-size: 14px; text-align: center;\"><strong><span style=\"color: #2dc26b;\"><em><span style=\"font-size: 36pt;\"><img src=\"https://media3.scdn.vn/img4/2022/06_20/0CWuBrgKRkSTLBEPMvq6_simg_d0daf0_800x1200_max.jpg\"></span></em></span></strong></p>\\n<p style=\"color: #212529; font-size: 14px; text-align: center;\"><strong><span style=\"color: #2dc26b;\"><em><span style=\"font-size: 36pt;\">TAI NGHE BLUETOOTH F95</span></em></span></strong></p>\\n<p style=\"color: #212529; font-size: 14px; text-align: left;\"><span style=\"font-size: 24pt;\"><span style=\"color: rgba(0, 0, 0, 0.8); font-size: 24pt;\">🔷Nâng cấp bl</span>uetooth 5.0 cho kết nối ổn định, tiết kiệm pin, khoảng cách kết nối lên 10m</span></p>\\n<p style=\"color: #212529; font-size: 14px; text-align: left;\"><span style=\"font-size: 24pt;\"><span style=\"color: rgba(0, 0, 0, 0.8); font-size: 24pt;\">🔷Màn hình led hiển thị dung lượng pin cực rõ và đầy đủ thông tin</span></span></p>\\n<p style=\"color: #212529; font-size: 14px; text-align: left;\"><span style=\"color: rgba(0, 0, 0, 0.8); font-size: 24pt;\">🔷Kèn sạc 2000mAh , kiêm sạc dự phòng, kết hợp sạc nhanh</span></p>\\n<p style=\"color: #212529; font-size: 14px; text-align: left;\"><span style=\"color: rgba(0, 0, 0, 0.8); font-size: 24pt;\">🔷 Chống nước IPX7</span></p>\\n<p style=\"color: #212529; font-size: 14px; text-align: left;\"><span style=\"color: rgba(0, 0, 0, 0.8); font-size: 24pt;\">🔷Chống ồn thụ động, khả năng cách âm tốt với môi trường bên ngoài</span></p>\\n<p style=\"color: #212529; font-size: 14px; text-align: left;\"><span style=\"color: rgba(0, 0, 0, 0.8); font-size: 24pt;\">🔷Dung lượng pin lớn cho thời gian sử dụng liên tục 4-6h(tùy mức âm lượng)</span></p>\\n<p style=\"color: #212529; font-size: 14px; text-align: left;\"><span style=\"color: rgba(0, 0, 0, 0.8); font-size: 24pt;\">🔷 Thiết kế công thái học kết hợp với núm cao su cho cảm giác đeo êm ái, sử dụng trong thời gian dài mà không gây đau tai</span></p>\\n<p style=\"color: #212529; font-size: 14px; text-align: left;\"><span style=\"color: rgba(0, 0, 0, 0.8); font-size: 24pt;\">🔷 Điều khiển cảm ứng, thao tác dễ dàng, độ nhạy cao, phản hồi tức thì, không có độ trễ</span></p>\\n<p style=\"color: #212529; font-size: 14px; text-align: left;\"><span style=\"color: rgba(0, 0, 0, 0.8); font-size: 24pt;\">🔷 Tự động kết nối khí lấy tai nghe ra khỏi kén sạc</span></p>\\n<p style=\"color: #212529; font-size: 14px; text-align: left;\"><span style=\"color: rgba(0, 0, 0, 0.8); font-size: 24pt;\">🔷Tương thích với hầu hết các loại điện thoại, máy tính bảng, laptop,... mọi hệ điều hành IOS, Android, Windown,....</span></p>\\n<p style=\"color: #212529; font-size: 14px; text-align: left;\"><span style=\"color: rgba(0, 0, 0, 0.8); font-size: 24pt;\">🔷</span><span style=\"font-size: 24pt;\">Chất âm nhấn vào bass nhưng cân bằng và không bị lấn dải. Âm mid ấm áp, hơi lùi lại một chút nhưng vẫn khá trong trẻo, dễ nghe. Dải treble có lượng vừa phải, không quá leng keng nhưng đủ để cho bản nhạc thêm phần vui tươi. Tổng thể thì âm thanh của Amoi f95 vẫn rất dễ nghe, vui tươi, phù hợp để đánh tạp mọi thể loại nhạc khác nhau</span></p>\\n<p style=\"color: #212529; font-size: 14px; text-align: left;\"><em><strong><span style=\"color: #e67e23; font-size: 24pt;\">🔥<span style=\"color: #e03e2d;\">CHẾ ĐỘ BẢO HÀNH</span>🔥</span></strong></em></p>\\n<p style=\"color: #212529; font-size: 14px; text-align: left;\"><em><strong><span style=\"color: #e67e23; font-size: 24pt;\">✅SHOP cam kết bán hàng uy tín, chất lượng</span></strong></em></p>\\n<p style=\"color: #212529; font-size: 14px; text-align: left;\"><em><strong><span style=\"color: #e67e23; font-size: 24pt;\">✅Bảo hành 6 tháng</span></strong></em></p>\\n<p style=\"color: #212529; font-size: 14px; text-align: left;\"><em><strong><span style=\"color: #e67e23; font-size: 24pt;\">✅1 đổi 1 nếu có lỗi của nhà sản xuất trong 15 ngày đầu - miễn phí đổi trả</span></strong></em></p>\\n<p style=\"color: #212529; font-size: 14px; text-align: left;\"><em><strong><span style=\"color: #e67e23; font-size: 24pt;\">✅Cam kết sản phẩm đúng mô tả, giống hình ảnh</span></strong></em></p>\\n<p style=\"color: #212529; font-size: 14px; text-align: left;\">\\xa0</p>\\n<p style=\"color: #212529; font-size: 14px; text-align: left;\">\\xa0</p>\\n<p style=\"color: #212529; font-size: 14px; text-align: left;\">\\xa0</p>\\n<p style=\"color: #212529; font-size: 14px; text-align: left;\"><span style=\"font-size: 36pt;\"><span style=\"color: #ff0000; font-size: 24pt;\">*HÀNG CÓ SẴN, SHIP TOÀN QUỐC, ĐƯỢC KIỂM TRA ĐÚNG HÀNG MỚI THANH TOÁN</span><strong><br></strong></span></p>\\n<ul style=\"color: #212529; font-size: 14px;\">\\n<li>\\n<div style=\"color: #212529; font-size: 14px; text-align: left;\">\\n<h3 style=\"font-size: 1.6rem;\"><span style=\"color: #e67e23; font-size: 18pt;\"><strong><em>Lưu ý khi mua hàng:</em></strong></span></h3>\\n</div>\\n<div>\\n<div style=\"color: #212529; font-size: 14px; text-align: left;\"><span style=\"color: #e67e23; font-size: 18pt;\"><strong><em>⚓️Shop cảm ơn bạn đã quan tâm đến sản phẩm, mời bạn đọc kỹ thông tin sản phẩm</em></strong></span></div>\\n<div style=\"color: #212529; font-size: 14px; text-align: left;\"><span style=\"color: #e67e23; font-size: 18pt;\"><strong><em>⚓️Bạn hãy kiểm tra kỹ địa chỉ nhận hàng, SĐT, thời gian giao hàng dự kiến “phí vận chuyển bạn phải chịu trước khi đặt hàng “</em></strong></span></div>\\n<div style=\"color: #212529; font-size: 14px; text-align: left;\"><span style=\"color: #e67e23; font-size: 18pt;\"><strong><em>⚓️Đơn hàng đã được vận chuyện mà bạn không nhận hàng thì sẽ bị báo xấu và có trong danh sách hạn chế mua hàng,</em></strong></span></div>\\n<div style=\"color: #212529; font-size: 14px; text-align: left;\"><span style=\"color: #e67e23; font-size: 18pt;\"><strong><em>⚓️Khi bạn nhận được hàng phát sinh lỗi ngoài ý muốn hãy gọi cho shop để được hỗ trợ</em></strong></span></div>\\n<div style=\"color: #212529; font-size: 14px; text-align: left;\"><span style=\"color: #e67e23; font-size: 18pt;\"><strong><em>⚓️\\xa0Chúc bạn chọn được sản phẩm ưng ý</em></strong></span></div>\\n</div>\\n</li>\\n</ul>\\n<p>\\xa0</p>\\n<p style=\"text-align: center;\"><img src=\"https://media3.scdn.vn/img4/2021/06_16/muMMo421h6NYMBVPZQHt_simg_d0daf0_800x1200_max.jpg\"></p>\\n<p style=\"text-align: center;\"><img src=\"https://media3.scdn.vn/img4/2021/12_29/vLw3ANDlEM8qRJkPnV0r_simg_d0daf0_800x1200_max.jpg\"></p>\\n<p style=\"text-align: center;\"><span style=\"font-size: 24pt;\">Điều khiển cảm ứng, thao tác cảm ứng nhạy, độ chính xác cao, phản hồi tức thì</span></p>\\n<p style=\"text-align: center;\"><img src=\"https://media3.scdn.vn/img4/2021/12_29/BGTj9a7ugHiopOvMiQFw_simg_d0daf0_800x1200_max.jpg\"></p>\\n<p style=\"text-align: center;\"><span style=\"font-size: 24pt;\">Chống ồn CVC</span></p>\\n<p style=\"text-align: center;\"><img src=\"https://media3.scdn.vn/img4/2021/12_29/PQGU4il65yFDhCWzKNaq_simg_d0daf0_800x1200_max.jpg\"></p>\\n<p style=\"text-align: center;\"><img src=\"https://media3.scdn.vn/img4/2021/12_29/DJ2cpBFEXltuo3wC8LNM_simg_d0daf0_800x1200_max.jpg\"></p>\\n<p style=\"text-align: center;\"><img src=\"https://media3.scdn.vn/img4/2021/12_29/qb99kK896tmh9rumVvb9_simg_d0daf0_800x1200_max.jpg\"></p>\\n<p style=\"text-align: center;\"><img src=\"https://media3.scdn.vn/img4/2021/12_29/dj3OPZGdtNTCTPdaxAAI_simg_d0daf0_800x1200_max.jpg\"></p>\\n<p style=\"text-align: center;\"><img src=\"https://media3.scdn.vn/img4/2021/12_29/liTGzSEyYzCfxmjcaZSk_simg_d0daf0_800x1200_max.jpg\"></p>\\n<p style=\"text-align: center;\"><img src=\"https://media3.scdn.vn/img4/2021/12_29/jYSoYnjBFap2Fsqw51lf_simg_d0daf0_800x1200_max.jpg\"></p>\\n<p style=\"text-align: center;\"><img src=\"https://media3.scdn.vn/img4/2021/12_29/kU79w7liU1duL0VkZAMQ_simg_d0daf0_800x1200_max.jpg\"></p>\\n<p style=\"text-align: center;\"><img src=\"https://media3.scdn.vn/img4/2021/12_29/lHaXtZQCSIv9Qfig1U5P_simg_d0daf0_800x1200_max.jpg\"></p>\\n<p style=\"text-align: center;\"><span style=\"font-size: 24pt;\">Màn hình LED hiển thị trên tai nghe bluetooth f9 5</span></p>\\n<p style=\"text-align: center;\"><img src=\"https://media3.scdn.vn/img4/2021/12_29/qn0Pif0m4hj4lKkXe9Q2_simg_d0daf0_800x1200_max.jpg\"></p>\\n<p style=\"text-align: center;\">\\xa0</p>\\n<p style=\"text-align: center;\"><span style=\"font-size: 24pt;\">tai nghe bluetooth f9 5 nâng cấp hộp sạc nam châm</span></p>\\n<p style=\"text-align: center;\"><img src=\"https://media3.scdn.vn/img4/2021/12_29/CJ9ieSaUJU9GZKubKcsN_simg_d0daf0_800x1200_max.jpg\"></p>\\n<p style=\"text-align: center;\"><span style=\"font-size: 24pt;\">Bộ sản phẩm tai nghe bluetooth f9 5</span></p>\\n<ul style=\"color: #777777; font-size: 14px;\">\\n<li style=\"font-size: 14px;\"><span style=\"font-size: 18.2px;\">Tên sản phẩm:\\xa0<strong style=\"font-size: 18.2px;\">Tai nghe Bluetooth F9 5.0 TWS không dây cao cấp</strong></span></li>\\n<li style=\"font-size: 14px;\"><span style=\"font-size: 18.2px;\">Model: TWS F9 5</span></li>\\n<li style=\"font-size: 14px;\"><span style=\"font-size: 18.2px;\">Phiên bản: Bluedtooth 5.0</span></li>\\n<li style=\"font-size: 14px;\"><span style=\"font-size: 18.2px;\">Khoảng cách truyền: 10m</span></li>\\n<li style=\"font-size: 14px;\"><span style=\"font-size: 18.2px;\">Pin tai nghe: 50mAh</span></li>\\n<li style=\"font-size: 14px;\"><span style=\"font-size: 18.2px;\">Thời gian sử dụng: 4 – 5 giờ</span></li>\\n<li style=\"font-size: 14px;\"><span style=\"font-size: 18.2px;\">Hộp pin sạc: 2000mAh</span></li>\\n<li style=\"font-size: 14px;\"><span style=\"font-size: 18.2px;\">Sạc đầu vào: 5V 1A</span></li>\\n<li style=\"font-size: 14px;\"><span style=\"font-size: 18.2px;\">Màn hình: Led</span></li>\\n<li style=\"font-size: 14px;\"><span style=\"font-size: 18.2px;\">Chống nước: IPX7</span></li>\\n<li style=\"font-size: 14px;\"><span style=\"font-size: 18.2px;\">Hỗ trợ sạc nhanh: Có</span></li>\\n<li style=\"font-size: 14px;\"><span style=\"font-size: 18.2px;\">Dùng làm sạc dự phòng: Có</span></li>\\n<li style=\"font-size: 14px;\"><span style=\"font-size: 18.2px;\">Cổng USB: Có</span></li>\\n<li style=\"font-size: 14px;\"><span style=\"font-size: 18.2px;\">Micro: Có</span></li>\\n<li style=\"font-size: 14px;\"><span style=\"font-size: 18.2px;\">Điều khiển âm lượng: Có</span></li>\\n<li style=\"font-size: 14px;\"><span style=\"font-size: 18.2px;\">Sử dụng: Iphone – Android – Máy tính bảng – Máy tính xách tay – Windows</span></li>\\n<li style=\"font-size: 14px;\"><span style=\"font-size: 18.2px;\">tai nghe không dây bluetooth</span></li>\\n</ul>\\n<p style=\"color: #212529; font-size: 14px;\"><span style=\"font-size: 36pt;\"><span style=\"color: #ff0000; font-size: 24pt;\">*HÀNG CÓ SẴN, SHIP TOÀN QUỐC</span><strong><br></strong></span></p>\\n<ul style=\"color: #212529; font-size: 14px;\">\\n<li>\\n<div style=\"color: #212529; font-size: 14px;\">\\n<h3 style=\"font-size: 1.6rem;\"><span style=\"font-size: 18pt;\"><strong><em><span style=\"color: #0000ff;\">Lưu ý khi mua hàng:</span></em></strong></span></h3>\\n</div>\\n<div style=\"color: #212529;\">\\n<div style=\"font-size: 14px;\"><span style=\"font-size: 18pt;\"><strong><em><span style=\"color: #ff9900;\">⚓️<span style=\"color: #ff00ff;\">Shop cảm ơn bạn đã quan tâm đến sản phẩm, mời bạn đọc kỹ thông tin sản phẩm</span></span></em></strong></span></div>\\n<div style=\"font-size: 14px;\"><span style=\"color: #ff00ff; font-size: 18pt;\"><strong><em>⚓️Bạn hãy kiểm tra kỹ địa chỉ nhận hàng, SĐT, thời gian giao hàng dự kiến “phí vận chuyển bạn phải chịu trước khi đặt hàng “</em></strong></span></div>\\n<div style=\"font-size: 14px;\"><span style=\"color: #ff00ff; font-size: 18pt;\"><strong><em>⚓️Đơn hàng đã được vận chuyện mà bạn không nhận hàng thì sẽ bị báo xấu và có trong danh sách hạn chế mua hàng,</em></strong></span></div>\\n<div style=\"font-size: 14px;\"><span style=\"color: #ff00ff; font-size: 18pt;\"><strong><em>⚓️Khi bạn nhận được hàng phát sinh lỗi ngoài ý muốn hãy gọi cho shop để được hỗ trợ</em></strong></span></div>\\n<div style=\"font-size: 14px;\"><span style=\"color: #ff00ff; font-size: 18pt;\"><strong><em>⚓️\\xa0Chúc bạn chọn được sản phẩm ưng ý</em></strong></span></div>\\n<div style=\"font-size: 14px;\"><span style=\"color: #ff00ff; font-size: 18pt;\"><strong><em>\\xa0</em></strong></span></div>\\n<div style=\"font-size: 14px;\"><strong><em><span style=\"font-size: 24pt;\"><span style=\"color: #ff9900;\"><span style=\"color: #ff00ff;\"><span style=\"font-size: 18pt;\">THAM KHẢO CÁC SẢN PHẨM TỐT</span>\\xa0:</span></span></span></em></strong></div>\\n<div style=\"font-size: 14px;\"><span style=\"font-size: 24pt;\"><span style=\"color: #ff9900;\"><span style=\"color: #ff00ff;\"><a href=\"https://www.sendo.vn/shop/bach-hoa-online-18\" rel=\"nofollow\"><strong><em>https://www.sendo.vn/shop/bach-hoa-online-18</em></strong></a></span></span></span></div>\\n<div style=\"font-size: 14px;\">\\xa0</div>\\n<div>\\n<div style=\"font-size: 14px;\">\\n<p style=\"color: #212529; font-size: 14px;\"><span style=\"font-size: 18pt;\"><strong>Thông tin đổi trả:<br>Quý khách có quyền đổi trả hàng trong vòng 3 ngày kể từ ngày nhận hàng cho những lý do sau:<br>1. Hàng bị lỗi<br>2. Hàng không giống hình mẫu</strong></span></p>\\n<p style=\"color: #212529; font-size: 14px;\"><span style=\"font-size: 18pt;\"><strong>Tuy nhiên hàng đổi trả phải đảm bảo còn nguyên và không có dấu hiệu đã qua sử dụng. Khi shop nhận được hàng đổi trả sẽ chuyển ngay sản phẩm khác cho quý khách hoặc hoàn tiền theo hình thức chuyển khoản. Tuy nhiên trong trường hợp đổi trả, quý khách phải chịu chi phí vận chuyển từ chỗ quý khách đến chỗ shop.\\xa0</strong></span></p>\\n</div>\\n<div style=\"font-size: 14px;\">\\xa0</div>\\n<div style=\"font-size: 14px;\"><span style=\"font-size: 24pt;\"><strong><em><span style=\"color: #0000ff;\">🔷🔷🔷🔷🔷🔷🔷🔷🔷🔷🔷🔷🔷🔷🔷🔷🔷🔷</span></em></strong></span></div>\\n<div>\\n<h1 style=\"font-size: 1.6rem;\"><span style=\"font-size: 24pt;\"><strong><em>❤️CẢM ƠN QUÝ KHÁCH ĐÃ GHÉ THĂM GIAN HÀNG CỦA CHÚNG TÔI❤️</em></strong></span></h1>\\n<p style=\"font-size: 14px;\">\\xa0</p>\\n<p style=\"font-size: 14px;\"><span style=\"color: #ff0000; font-size: 18pt;\"><strong><span style=\"color: #339966;\">Hãy bấm</span></strong>\\xa0<span style=\"font-size: 24pt;\"><em><strong>THEO DÕI</strong></em>\\xa0</span><strong><span style=\"color: #339966;\">BÁCH HÓA ONLINE 18 để nhận mã giảm giá và biết được các trương trình khuyến mãi của shop bạn nhé</span></strong></span></p>\\n<p style=\"font-size: 14px;\">\\xa0</p>\\n<p style=\"font-size: 14px;\"><span style=\"font-size: 24pt;\"><strong><em><span style=\"color: #ff0000;\">☎️ Hotline giá sỉ:\\xa0</span><span style=\"color: #0000ff;\">0949.772.089</span></em></strong></span></p>\\n<p style=\"font-size: 14px;\">\\xa0</p>\\n<p style=\"font-size: 14px;\"><em><strong>tai nghe bluetooth f9 5</strong></em></p>\\n<h1 style=\"font-size: 14px;\"><span style=\"color: #000000; font-size: 8pt;\">tai nghe f95</span></h1>\\n<h1><span style=\"font-size: 8pt;\">tai nghe bluetooth f9 5</span></h1>\\n<p style=\"font-size: 14px;\"><span style=\"color: #000000; font-size: 8pt;\">tai nghe không dây</span></p>\\n<p style=\"font-size: 14px;\"><span style=\"color: #000000; font-size: 8pt;\">tai nghe tws</span></p>\\n<p style=\"font-size: 14px;\"><span style=\"color: #000000; font-size: 8pt;\">tai nghe bluetooth</span></p>\\n<p style=\"font-size: 14px;\"><span style=\"color: #000000; font-size: 8pt;\">tai nghe f95</span></p>\\n<p style=\"margin-top: 0in; background: white;\"><span style=\"font-size: 14pt;\"><strong><em><span style=\"font-family: Arial, sans-serif; color: red;\">\\xa0</span></em></strong><span style=\"font-family: Arial, sans-serif; color: #000000; font-size: 8pt;\">tai nghe bluetooth</span></span></p>\\n<p style=\"margin-top: 0in; background: white;\"><span style=\"font-size: 14pt;\"><span style=\"font-family: Arial, sans-serif; color: #000000; font-size: 8pt;\">tai nghe không dây</span></span></p>\\n<p style=\"margin-top: 0in; background: white;\"><span style=\"font-size: 14pt;\"><span style=\"font-family: Arial, sans-serif; color: #000000; font-size: 8pt;\">tai nghe\\xa0 tws</span></span></p>\\n<p style=\"margin-top: 0in; background: white;\"><span style=\"font-size: 14pt;\"><span style=\"font-family: Arial, sans-serif; color: #000000; font-size: 8pt;\">tai nghe truewireless</span></span></p>\\n<p style=\"margin-top: 0in; background: white;\"><span style=\"font-size: 14pt;\"><span style=\"font-family: Arial, sans-serif; color: #000000; font-size: 8pt;\">tai nghe khong day</span></span></p>\\n<p style=\"margin-top: 0in; background: white;\"><span style=\"font-size: 14pt;\"><span style=\"font-family: Arial, sans-serif; color: #000000; font-size: 8pt;\">tai nghe</span></span></p>\\n<p style=\"margin-top: 0in; background: white;\"><span style=\"font-size: 14pt;\"><span style=\"font-family: Arial, sans-serif; color: #000000; font-size: 8pt;\">tai nghe iphone</span></span></p>\\n<p style=\"margin-top: 0in; background: white;\"><span style=\"font-size: 14pt;\"><span style=\"font-family: Arial, sans-serif; color: #000000; font-size: 8pt;\">tai nghe samsung, xiaomi</span></span></p>\\n<p style=\"margin-top: 0in; background: white;\"><span style=\"font-size: 14pt;\"><span style=\"font-family: Arial, sans-serif; color: #000000; font-size: 8pt;\">tai nghe nhét tai</span></span></p>\\n<p style=\"font-size: 14px;\">\\xa0</p>\\n<p style=\"font-size: 14px;\">\\xa0</p>\\n<p style=\"font-size: 14px;\">\\xa0</p>\\n<p style=\"font-size: 14px;\">\\xa0</p>\\n<p style=\"font-size: 14px;\">\\xa0</p>\\n<p style=\"font-size: 14px;\">\\xa0</p>\\n<p style=\"font-size: 14px;\">\\xa0</p>\\n<p style=\"font-size: 14px;\">\\xa0</p>\\n</div>\\n</div>\\n</div>\\n</li>\\n</ul>'},\n",
       "  'attribute': [{'attribute_id': 284,\n",
       "    'name': 'Màu sắc',\n",
       "    'product_option': '40893817_284',\n",
       "    'type': 'Option',\n",
       "    'value': [{'option_id': 105795123,\n",
       "      'name': 'F95',\n",
       "      'value': 'F95',\n",
       "      'product_option_id': '40893817_105795123',\n",
       "      'image': 'https://media3.scdn.vn/img4/2022/05_18/UzTIPkKIiIMKCxZpbBC0.jpg',\n",
       "      'image_500x500': 'https://media3.scdn.vn/img4/2022/05_18/UzTIPkKIiIMKCxZpbBC0_simg_de2fe0_500x500_maxb.jpg',\n",
       "      'image_50x50': 'https://media3.scdn.vn/img4/2022/05_18/UzTIPkKIiIMKCxZpbBC0_simg_02d57e_50x50_maxb.jpg',\n",
       "      'is_custom': False}],\n",
       "    'search_key': 'mau_sac',\n",
       "    'is_custom': False}],\n",
       "  'variants': [{'attribute_hash': '105795123',\n",
       "    'promotion_start_date': 1695229200,\n",
       "    'promotion_end_date': 2861542799,\n",
       "    'promotion_percent': 60,\n",
       "    'is_promotion': True,\n",
       "    'sku_user': 'f95',\n",
       "    'price': 169000,\n",
       "    'special_price': 69000,\n",
       "    'final_price': 69000,\n",
       "    'stock': 9018,\n",
       "    'options': [105795123],\n",
       "    'attribute_option': {'284': 105795123},\n",
       "    'flashdeal_quantity': 9,\n",
       "    'flashdeal_price': 69000,\n",
       "    'flashdeal_remain': 8,\n",
       "    'is_flashdeal_price': 1,\n",
       "    'buy_limit': 8,\n",
       "    'text': 'Chỉ được mua <b>8</b> sản phẩm khuyến mãi.'}],\n",
       "  'voucher': {'product_type': 1},\n",
       "  'brand_info': {'name': 'OEM'},\n",
       "  'rating_info': {'total_rated': 649,\n",
       "   'percent_star_rating': 91.03235747303543,\n",
       "   'percent_number': 91,\n",
       "   'total_rat_image': 0,\n",
       "   'percent_star': 4.6,\n",
       "   'percent_star1': 7,\n",
       "   'percent_star2': 1,\n",
       "   'percent_star3': 5,\n",
       "   'percent_star4': 7,\n",
       "   'percent_star5': 82,\n",
       "   'star1': 45,\n",
       "   'star2': 3,\n",
       "   'star3': 29,\n",
       "   'star4': 44,\n",
       "   'star5': 528},\n",
       "  'installment_info': None,\n",
       "  'promotion_info': {'id': 30573346,\n",
       "   'is_running': True,\n",
       "   'time_remain': 13442,\n",
       "   'type': 0,\n",
       "   'start_time': 1695283200,\n",
       "   'end_time': 1695297600,\n",
       "   'link': '/flash-sale/?trackid=40893817&slotId=50219934',\n",
       "   'background_image': 'https://media3.scdn.vn/img4/2020/06_18/FBnN0sGbAeXbPuZ7IIWp.png',\n",
       "   'image': 'https://media3.scdn.vn/img4/2020/06_18/jaGsAfx1dzgHf82AyWSI.png',\n",
       "   'buy_limit': 8,\n",
       "   'text': 'Chỉ được mua <b>8</b> sản phẩm khuyến mãi.',\n",
       "   'slot_id': 50219934},\n",
       "  'label_sale_event': None,\n",
       "  'label_sale': None}]"
      ]
     },
     "execution_count": 96,
     "metadata": {},
     "output_type": "execute_result"
    }
   ],
   "source": [
    "link ='https://detail-api.sendo.vn/full/tai-nghe-bluetooth-amoi-f95-bluetooth-50-dieu-khien-cam-ung-man-hinh-led-hien-thi-chong-tham-nuoc-ipx7-tu-dong-ket-noi-tuong-thich-voi-moi-he-dieu-hanh-40893817?\\\n",
    "    source_block_id=sendoclick_product&source_page_id=search&\\\n",
    "    source_info=desktop2_30_40893817_aa14e67e-3d3f-42d9-a1bf-71fb333d9e3c_-1_undefined_0_1_1_-1&platform=web'\n",
    "result = []\n",
    "request = requests.get(link,headers= headers_3)\n",
    "if request.status_code == 200:\n",
    "    result.append(request.json().get('data'))\n",
    "\n",
    "result"
   ]
  }
 ],
 "metadata": {
  "kernelspec": {
   "display_name": "Python 3",
   "language": "python",
   "name": "python3"
  },
  "language_info": {
   "codemirror_mode": {
    "name": "ipython",
    "version": 3
   },
   "file_extension": ".py",
   "mimetype": "text/x-python",
   "name": "python",
   "nbconvert_exporter": "python",
   "pygments_lexer": "ipython3",
   "version": "3.9.0"
  },
  "orig_nbformat": 4
 },
 "nbformat": 4,
 "nbformat_minor": 2
}
