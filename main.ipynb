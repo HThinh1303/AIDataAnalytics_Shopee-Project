{
 "cells": [
  {
   "cell_type": "code",
   "execution_count": 15,
   "metadata": {},
   "outputs": [],
   "source": [
    "import pandas as pd\n",
    "from pymongo.mongo_client import MongoClient\n",
    "from pymongo.server_api import ServerApi"
   ]
  },
  {
   "cell_type": "code",
   "execution_count": 16,
   "metadata": {},
   "outputs": [
    {
     "name": "stdout",
     "output_type": "stream",
     "text": [
      "Pinged your deployment. You successfully connected to MongoDB!\n"
     ]
    }
   ],
   "source": [
    "password = \"qthls2023\"\n",
    "uri = \"mongodb+srv://shopee_database_1:{}@cluster0.1wsiirv.mongodb.net/?retryWrites=true&w=majority\".format(password)\n",
    "client_server = MongoClient(uri, server_api=ServerApi('1'))\n",
    "\n",
    "# Send a ping to confirm a successful connection\n",
    "try:\n",
    "    client_server.admin.command('ping')\n",
    "    print(\"Pinged your deployment. You successfully connected to MongoDB!\")\n",
    "except Exception as e:\n",
    "    print(e)\n",
    "    \n",
    "db = client_server['Task2_Database']\n",
    "collection = db['Shopee_Full_Preprocessing_Data']\n",
    "\n",
    "cursor = collection.find()\n",
    "data_list = []\n",
    "for document in cursor: \n",
    "    del document['_id']\n",
    "    data_list.append(document)\n",
    "\n",
    "\n",
    "df = pd.DataFrame(data_list)"
   ]
  },
  {
   "cell_type": "code",
   "execution_count": 17,
   "metadata": {},
   "outputs": [
    {
     "data": {
      "text/plain": [
       "Index(['itemid', 'shopid', 'name', 'stock', 'sold', 'historical_sold',\n",
       "       'liked_count', 'cmt_count', 'item_status', 'price', 'price_min',\n",
       "       'price_max', 'price_min_before_discount', 'price_max_before_discount',\n",
       "       'price_before_discount', 'item_rating', 'show_free_shipping',\n",
       "       'shop_location', 'is_on_flash_sale', 'shop_name', 'shop_rating',\n",
       "       'global_sold_count', 'flash_sale_stock', 'crawl_time', 'crawl_id',\n",
       "       'color', 'size', 'rating_star', 'rating_count', 'rcount_with_image',\n",
       "       'rcount_with_context'],\n",
       "      dtype='object')"
      ]
     },
     "execution_count": 17,
     "metadata": {},
     "output_type": "execute_result"
    }
   ],
   "source": [
    "df.columns"
   ]
  },
  {
   "cell_type": "code",
   "execution_count": 18,
   "metadata": {},
   "outputs": [],
   "source": [
    "drop_col_list = [ 'price_min', 'price_min_before_discount','item_rating']\n",
    "df.drop(drop_col_list,axis=1,inplace=True)"
   ]
  },
  {
   "cell_type": "code",
   "execution_count": 22,
   "metadata": {},
   "outputs": [],
   "source": [
    "df['crawl_time'] = pd.to_datetime(df['crawl_time'])\n",
    "filtered_df = df[(df['crawl_time'].dt.hour >= 10) & (df['crawl_time'].dt.hour <=19)]"
   ]
  },
  {
   "cell_type": "code",
   "execution_count": null,
   "metadata": {},
   "outputs": [],
   "source": [
    "filtered_df.to_csv(\"shopee.csv\",index=False)"
   ]
  }
 ],
 "metadata": {
  "kernelspec": {
   "display_name": "Python 3",
   "language": "python",
   "name": "python3"
  },
  "language_info": {
   "codemirror_mode": {
    "name": "ipython",
    "version": 3
   },
   "file_extension": ".py",
   "mimetype": "text/x-python",
   "name": "python",
   "nbconvert_exporter": "python",
   "pygments_lexer": "ipython3",
   "version": "3.11.5"
  }
 },
 "nbformat": 4,
 "nbformat_minor": 2
}
