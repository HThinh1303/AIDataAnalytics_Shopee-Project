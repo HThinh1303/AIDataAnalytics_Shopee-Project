{
 "cells": [
  {
   "cell_type": "markdown",
   "metadata": {},
   "source": [
    "# 1. Read data from mongoDB"
   ]
  },
  {
   "cell_type": "code",
   "execution_count": 1,
   "metadata": {},
   "outputs": [],
   "source": [
    "from pymongo.mongo_client import MongoClient\n",
    "from pymongo.server_api import ServerApi\n",
    "import pandas as pd"
   ]
  },
  {
   "cell_type": "markdown",
   "metadata": {},
   "source": [
    "Check ip address https://whatismyipaddress.com/vi-vn/index?fbclid=IwAR1i50O9Py5PZk7UlnVXVHz2BU4MuPpQcnewuPg6KBJMx8oC9gPcFs5SbGg"
   ]
  },
  {
   "cell_type": "code",
   "execution_count": 2,
   "metadata": {},
   "outputs": [
    {
     "name": "stdout",
     "output_type": "stream",
     "text": [
      "Pinged your deployment. You successfully connected to MongoDB!\n"
     ]
    }
   ],
   "source": [
    "password = \"minhquan\"\n",
    "uri = \"mongodb+srv://minhquan:{}@cluster0.fkdmnkx.mongodb.net/?retryWrites=true&w=majority\".format(password)\n",
    "\n",
    "# Create a new client and connect to the server\n",
    "client = MongoClient(uri, server_api=ServerApi('1'))\n",
    "\n",
    "# Send a ping to confirm a successful connection\n",
    "try:\n",
    "    client.admin.command('ping')\n",
    "    print(\"Pinged your deployment. You successfully connected to MongoDB!\")\n",
    "except Exception as e:\n",
    "    print(e)\n",
    "\n",
    "db = client['Task2_Database']\n",
    "collection = db['shopee_full_data']\n",
    "\n",
    "data = list(collection.find())\n"
   ]
  },
  {
   "cell_type": "code",
   "execution_count": 3,
   "metadata": {},
   "outputs": [
    {
     "data": {
      "text/html": [
       "<div>\n",
       "<style scoped>\n",
       "    .dataframe tbody tr th:only-of-type {\n",
       "        vertical-align: middle;\n",
       "    }\n",
       "\n",
       "    .dataframe tbody tr th {\n",
       "        vertical-align: top;\n",
       "    }\n",
       "\n",
       "    .dataframe thead th {\n",
       "        text-align: right;\n",
       "    }\n",
       "</style>\n",
       "<table border=\"1\" class=\"dataframe\">\n",
       "  <thead>\n",
       "    <tr style=\"text-align: right;\">\n",
       "      <th></th>\n",
       "      <th>itemid</th>\n",
       "      <th>shopid</th>\n",
       "      <th>name</th>\n",
       "      <th>label_ids</th>\n",
       "      <th>image</th>\n",
       "      <th>images</th>\n",
       "      <th>currency</th>\n",
       "      <th>stock</th>\n",
       "      <th>status</th>\n",
       "      <th>ctime</th>\n",
       "      <th>...</th>\n",
       "      <th>item</th>\n",
       "      <th>ui_type</th>\n",
       "      <th>room_id</th>\n",
       "      <th>user_id</th>\n",
       "      <th>nick_name</th>\n",
       "      <th>product_banners</th>\n",
       "      <th>top_product_label</th>\n",
       "      <th>fashion_item</th>\n",
       "      <th>image_search</th>\n",
       "      <th>generic_search_card</th>\n",
       "    </tr>\n",
       "  </thead>\n",
       "  <tbody>\n",
       "    <tr>\n",
       "      <th>0</th>\n",
       "      <td>19393753758</td>\n",
       "      <td>40342563</td>\n",
       "      <td>Bộ Đồ Nam AVIANO 4 Màu Dài Tay, Bộ Thể Thao Na...</td>\n",
       "      <td>[1000254, 1000255, 1000256, 1000257, 1000258, ...</td>\n",
       "      <td>vn-11134207-7r98o-lmpjspncbh0f81</td>\n",
       "      <td>[vn-11134207-7r98o-lmpjspncbh0f81, vn-11134207...</td>\n",
       "      <td>VND</td>\n",
       "      <td>159</td>\n",
       "      <td>1</td>\n",
       "      <td>1696305383</td>\n",
       "      <td>...</td>\n",
       "      <td>None</td>\n",
       "      <td>None</td>\n",
       "      <td>None</td>\n",
       "      <td>None</td>\n",
       "      <td>None</td>\n",
       "      <td>None</td>\n",
       "      <td>None</td>\n",
       "      <td>None</td>\n",
       "      <td>None</td>\n",
       "      <td>None</td>\n",
       "    </tr>\n",
       "    <tr>\n",
       "      <th>1</th>\n",
       "      <td>4263018116</td>\n",
       "      <td>40342563</td>\n",
       "      <td>Bộ Thể Thao Nam Chất Nỉ 4 Màu Trẻ Trung Năng Đ...</td>\n",
       "      <td>[1000262, 1000258, 1000259, 1000260, 1000263, ...</td>\n",
       "      <td>sg-11134201-22110-7aoq230noejv77</td>\n",
       "      <td>[sg-11134201-22110-7aoq230noejv77, sg-11134201...</td>\n",
       "      <td>VND</td>\n",
       "      <td>240</td>\n",
       "      <td>1</td>\n",
       "      <td>1605498991</td>\n",
       "      <td>...</td>\n",
       "      <td>None</td>\n",
       "      <td>None</td>\n",
       "      <td>None</td>\n",
       "      <td>None</td>\n",
       "      <td>None</td>\n",
       "      <td>None</td>\n",
       "      <td>None</td>\n",
       "      <td>None</td>\n",
       "      <td>None</td>\n",
       "      <td>None</td>\n",
       "    </tr>\n",
       "    <tr>\n",
       "      <th>2</th>\n",
       "      <td>18484638101</td>\n",
       "      <td>40342563</td>\n",
       "      <td>Bộ Đồ Nam AVIANO 4 Màu Dài Tay, Bộ Thể Thao Na...</td>\n",
       "      <td>[1000254, 1000255, 1000256, 1000257, 1000258, ...</td>\n",
       "      <td>vn-11134207-7r98o-lmsbg8f77pwfe9</td>\n",
       "      <td>[vn-11134207-7r98o-lmsbg8f77pwfe9, vn-11134207...</td>\n",
       "      <td>VND</td>\n",
       "      <td>222</td>\n",
       "      <td>1</td>\n",
       "      <td>1695799653</td>\n",
       "      <td>...</td>\n",
       "      <td>None</td>\n",
       "      <td>None</td>\n",
       "      <td>None</td>\n",
       "      <td>None</td>\n",
       "      <td>None</td>\n",
       "      <td>None</td>\n",
       "      <td>None</td>\n",
       "      <td>None</td>\n",
       "      <td>None</td>\n",
       "      <td>None</td>\n",
       "    </tr>\n",
       "    <tr>\n",
       "      <th>3</th>\n",
       "      <td>23081308025</td>\n",
       "      <td>40342563</td>\n",
       "      <td>Áo Khoác Nam AVIANO Cao Cấp Chống Nước,Chống G...</td>\n",
       "      <td>[1000254, 1000255, 1000256, 1000257, 1000258, ...</td>\n",
       "      <td>vn-11134207-7r98o-ln1bgrcuvyzc98</td>\n",
       "      <td>[vn-11134207-7r98o-ln1bgrcuvyzc98, vn-11134207...</td>\n",
       "      <td>VND</td>\n",
       "      <td>216</td>\n",
       "      <td>1</td>\n",
       "      <td>1695528691</td>\n",
       "      <td>...</td>\n",
       "      <td>None</td>\n",
       "      <td>None</td>\n",
       "      <td>None</td>\n",
       "      <td>None</td>\n",
       "      <td>None</td>\n",
       "      <td>None</td>\n",
       "      <td>None</td>\n",
       "      <td>None</td>\n",
       "      <td>None</td>\n",
       "      <td>None</td>\n",
       "    </tr>\n",
       "    <tr>\n",
       "      <th>4</th>\n",
       "      <td>18040585153</td>\n",
       "      <td>40342563</td>\n",
       "      <td>Bộ Quần Áo Cho Bé Thiết Kế Kẻ Ô Cao Cấp Thời T...</td>\n",
       "      <td>[1000262, 1000258, 1000259, 1000260, 1000263, ...</td>\n",
       "      <td>a1517d92a40d150c828ffcdbedaed416</td>\n",
       "      <td>[a1517d92a40d150c828ffcdbedaed416, d07a045afcd...</td>\n",
       "      <td>VND</td>\n",
       "      <td>317</td>\n",
       "      <td>1</td>\n",
       "      <td>1661936288</td>\n",
       "      <td>...</td>\n",
       "      <td>None</td>\n",
       "      <td>None</td>\n",
       "      <td>None</td>\n",
       "      <td>None</td>\n",
       "      <td>None</td>\n",
       "      <td>None</td>\n",
       "      <td>None</td>\n",
       "      <td>None</td>\n",
       "      <td>None</td>\n",
       "      <td>None</td>\n",
       "    </tr>\n",
       "  </tbody>\n",
       "</table>\n",
       "<p>5 rows × 144 columns</p>\n",
       "</div>"
      ],
      "text/plain": [
       "        itemid    shopid                                               name  \\\n",
       "0  19393753758  40342563  Bộ Đồ Nam AVIANO 4 Màu Dài Tay, Bộ Thể Thao Na...   \n",
       "1   4263018116  40342563  Bộ Thể Thao Nam Chất Nỉ 4 Màu Trẻ Trung Năng Đ...   \n",
       "2  18484638101  40342563  Bộ Đồ Nam AVIANO 4 Màu Dài Tay, Bộ Thể Thao Na...   \n",
       "3  23081308025  40342563  Áo Khoác Nam AVIANO Cao Cấp Chống Nước,Chống G...   \n",
       "4  18040585153  40342563  Bộ Quần Áo Cho Bé Thiết Kế Kẻ Ô Cao Cấp Thời T...   \n",
       "\n",
       "                                           label_ids  \\\n",
       "0  [1000254, 1000255, 1000256, 1000257, 1000258, ...   \n",
       "1  [1000262, 1000258, 1000259, 1000260, 1000263, ...   \n",
       "2  [1000254, 1000255, 1000256, 1000257, 1000258, ...   \n",
       "3  [1000254, 1000255, 1000256, 1000257, 1000258, ...   \n",
       "4  [1000262, 1000258, 1000259, 1000260, 1000263, ...   \n",
       "\n",
       "                              image  \\\n",
       "0  vn-11134207-7r98o-lmpjspncbh0f81   \n",
       "1  sg-11134201-22110-7aoq230noejv77   \n",
       "2  vn-11134207-7r98o-lmsbg8f77pwfe9   \n",
       "3  vn-11134207-7r98o-ln1bgrcuvyzc98   \n",
       "4  a1517d92a40d150c828ffcdbedaed416   \n",
       "\n",
       "                                              images currency  stock  status  \\\n",
       "0  [vn-11134207-7r98o-lmpjspncbh0f81, vn-11134207...      VND    159       1   \n",
       "1  [sg-11134201-22110-7aoq230noejv77, sg-11134201...      VND    240       1   \n",
       "2  [vn-11134207-7r98o-lmsbg8f77pwfe9, vn-11134207...      VND    222       1   \n",
       "3  [vn-11134207-7r98o-ln1bgrcuvyzc98, vn-11134207...      VND    216       1   \n",
       "4  [a1517d92a40d150c828ffcdbedaed416, d07a045afcd...      VND    317       1   \n",
       "\n",
       "        ctime  ...  item  ui_type  room_id  user_id nick_name  \\\n",
       "0  1696305383  ...  None     None     None     None      None   \n",
       "1  1605498991  ...  None     None     None     None      None   \n",
       "2  1695799653  ...  None     None     None     None      None   \n",
       "3  1695528691  ...  None     None     None     None      None   \n",
       "4  1661936288  ...  None     None     None     None      None   \n",
       "\n",
       "   product_banners top_product_label  fashion_item  image_search  \\\n",
       "0             None              None          None          None   \n",
       "1             None              None          None          None   \n",
       "2             None              None          None          None   \n",
       "3             None              None          None          None   \n",
       "4             None              None          None          None   \n",
       "\n",
       "   generic_search_card  \n",
       "0                 None  \n",
       "1                 None  \n",
       "2                 None  \n",
       "3                 None  \n",
       "4                 None  \n",
       "\n",
       "[5 rows x 144 columns]"
      ]
     },
     "execution_count": 3,
     "metadata": {},
     "output_type": "execute_result"
    }
   ],
   "source": [
    "# Read data from MongoDB and save it in a list\n",
    "cursor = collection.find()\n",
    "data_list = []\n",
    "for document in cursor: \n",
    "    del document['_id']\n",
    "    data_list.append(document)\n",
    "\n",
    "\n",
    "df = pd.DataFrame(data_list)\n",
    "df.head()"
   ]
  },
  {
   "cell_type": "markdown",
   "metadata": {},
   "source": [
    "# 2. Extract data"
   ]
  },
  {
   "cell_type": "markdown",
   "metadata": {},
   "source": [
    "## 2.1 Shape Data"
   ]
  },
  {
   "cell_type": "code",
   "execution_count": 4,
   "metadata": {},
   "outputs": [
    {
     "name": "stdout",
     "output_type": "stream",
     "text": [
      "Dữ liệu có 144 cột\n",
      "Dữ liệu có 8361 dòng\n"
     ]
    }
   ],
   "source": [
    "print(f'Dữ liệu có {df.shape[1]} cột')\n",
    "print(f'Dữ liệu có {df.shape[0]} dòng')"
   ]
  },
  {
   "cell_type": "markdown",
   "metadata": {},
   "source": [
    "## 2.2 Drop column unnecessary"
   ]
  },
  {
   "cell_type": "code",
   "execution_count": 5,
   "metadata": {},
   "outputs": [],
   "source": [
    "# column None value\n",
    "non_columns=list(df.isna().sum()[df.isna().sum() == 8361].index)\n",
    "df.drop(non_columns,axis=1,inplace=True)\n",
    "columns = list(df.isna().sum()[df.isna().sum() > 0].index)\n",
    "columns.remove('discount')\n",
    "df.drop(columns,axis=1,inplace=True)\n",
    "# column Nan value\n",
    "count_Nan=(df =='').sum()\n",
    "column_nan_value=list(count_Nan[count_Nan>0].index)\n",
    "df.drop(column_nan_value,axis=1,inplace=True)"
   ]
  },
  {
   "cell_type": "code",
   "execution_count": 100,
   "metadata": {},
   "outputs": [
    {
     "data": {
      "text/plain": [
       "Index(['itemid', 'shopid', 'name', 'label_ids', 'image', 'images', 'currency',\n",
       "       'stock', 'status', 'ctime', 'sold', 'historical_sold', 'liked',\n",
       "       'liked_count', 'catid', 'cmt_count', 'flag', 'cb_option', 'item_status',\n",
       "       'price', 'price_min', 'price_max', 'price_min_before_discount',\n",
       "       'price_max_before_discount', 'price_before_discount',\n",
       "       'has_lowest_price_guarantee', 'show_discount', 'raw_discount',\n",
       "       'discount', 'video_info_list', 'tier_variations', 'item_rating',\n",
       "       'item_type', 'is_adult', 'badge_icon_type', 'shopee_verified',\n",
       "       'is_official_shop', 'show_official_shop_label',\n",
       "       'show_shopee_verified_label', 'show_official_shop_label_in_title',\n",
       "       'is_cc_installment_payment_eligible',\n",
       "       'is_non_cc_installment_payment_eligible', 'show_free_shipping',\n",
       "       'bundle_deal_id', 'can_use_bundle_deal', 'welcome_package_type',\n",
       "       'can_use_wholesale', 'is_preferred_plus_seller', 'shop_location',\n",
       "       'has_model_with_available_shopee_stock', 'is_on_flash_sale',\n",
       "       'shop_name', 'shop_rating', 'is_mart', 'is_service_by_shopee',\n",
       "       'global_sold_count', 'repurchase_rate', 'best_selling_tag',\n",
       "       'flash_sale_stock', 'info', 'data_type', 'key', 'count', 'adsid',\n",
       "       'campaignid', 'video_display_control', 'can_use_cod', 'pub_context_id',\n",
       "       'show_flash_sale_label'],\n",
       "      dtype='object')"
      ]
     },
     "execution_count": 100,
     "metadata": {},
     "output_type": "execute_result"
    }
   ],
   "source": [
    "df.columns"
   ]
  },
  {
   "cell_type": "code",
   "execution_count": 127,
   "metadata": {},
   "outputs": [],
   "source": [
    "# column unnecessary\n",
    "unneccess_column=['name','label_ids','image','images','currency','status','ctime','historical_sold','liked','flag','cb_option',\n",
    "                  'show_discount','discount','video_info_list','item_type','is_adult','badge_icon_type','shopee_verified','is_official_shop',\n",
    "                  'show_official_shop_label','show_shopee_verified_label','show_official_shop_label_in_title','is_cc_installment_payment_eligible',\n",
    "                  'is_non_cc_installment_payment_eligible','bundle_deal_id','can_use_bundle_deal','welcome_package_type','can_use_wholesale',\n",
    "                  'is_preferred_plus_seller','has_model_with_available_shopee_stock','is_mart','is_service_by_shopee','repurchase_rate',\n",
    "                  'best_selling_tag','info','data_type','key','count','adsid','campaignid','video_display_control','can_use_cod','pub_context_id',\n",
    "                  'show_flash_sale_label','catid','has_lowest_price_guarantee','raw_discount']\n",
    "\n",
    "df.drop(unneccess_column,axis=1,inplace=True)"
   ]
  },
  {
   "cell_type": "markdown",
   "metadata": {},
   "source": [
    "## 2.3 Column\n",
    "Mô tả các cột dữ liệu và các kiểu dữ liệu mong muốn\n",
    "\n",
    "|STT| Tên cột    | Mô tả| Kiểu dữ liệu mong muốn |\n",
    "|---|:-----------:|:-------------:|:---|\n",
    "|1| itemid| Id của sản phẩm| String|\n",
    "|2| shopid| ID của shop| string|\n",
    "|3| stock| Số lượng sản phẩm trong kho| int |\n",
    "|4| sold| Số lượng sản phẩm đã bán| int|\n",
    "|5| liked_count| Số lượt thích sản phẩm| int|\n",
    "|6| cmt_count| Số lượt bình luận| int|\n",
    "|7| item_status| trạng thái sản phẩm| bool|\n",
    "|8| price| giá sản phẩm| float|\n",
    "|9| price_min|giá tối thiểu| float|\n",
    "|10| price_max| giá tối đa| float|\n",
    "|11| price_min_before_discount| giá tối thiểu trước discount| float|\n",
    "|12| price_max_before_discount| giá tối đa trước discount|\n",
    "|13| price_before_discount| giá trước discount| string|\n",
    "|14| tier_variations| kích thước, màu sắc và các đặc tính khác của sản phẩm| dict|\n",
    "|15| item_rating| các đánh giá của sản phẩm(bao gồm đánh giá trung bình và số đánh giá của từng sao)| dict|\n",
    "|16| show_free_shipping| shop có free ship hay không| bool|\n",
    "|17| shop_location|vị trí của shop| string|\n",
    "|18| is_on_flash_sale| sản phẩm có đang sale hay không| bool|\n",
    "|19| shop_name| tên shop| string|\n",
    "|20| shop_rating| đánh giá của shop| float|\n",
    "|21| global_sold_count| số lượng sản phẩm được bán trên thế giới trên shoppe| int|\n",
    "|22| flash_sale_stock| số lượng sản phẩm còn lại trong đợt flash sale| string|\n"
   ]
  },
  {
   "cell_type": "markdown",
   "metadata": {},
   "source": [
    "## 2.4 Find null values\n",
    "Vì dữ liệu được cào về là '' nếu nó là null nên thay vì tìm null thì ta tìm các giá trị ''"
   ]
  },
  {
   "cell_type": "code",
   "execution_count": 140,
   "metadata": {},
   "outputs": [
    {
     "name": "stdout",
     "output_type": "stream",
     "text": [
      "<class 'pandas.core.frame.DataFrame'>\n",
      "RangeIndex: 8361 entries, 0 to 8360\n",
      "Data columns (total 24 columns):\n",
      " #   Column                      Non-Null Count  Dtype  \n",
      "---  ------                      --------------  -----  \n",
      " 0   itemid                      8361 non-null   int64  \n",
      " 1   shopid                      8361 non-null   int64  \n",
      " 2   stock                       8361 non-null   int64  \n",
      " 3   sold                        8361 non-null   int64  \n",
      " 4   liked_count                 8361 non-null   int64  \n",
      " 5   cmt_count                   8361 non-null   int64  \n",
      " 6   item_status                 8361 non-null   object \n",
      " 7   price                       8361 non-null   int64  \n",
      " 8   price_min                   8361 non-null   int64  \n",
      " 9   price_max                   8361 non-null   int64  \n",
      " 10  price_min_before_discount   8361 non-null   int64  \n",
      " 11  price_max_before_discount   8361 non-null   int64  \n",
      " 12  price_before_discount       8361 non-null   int64  \n",
      " 13  has_lowest_price_guarantee  8361 non-null   bool   \n",
      " 14  raw_discount                8361 non-null   int64  \n",
      " 15  tier_variations             8361 non-null   object \n",
      " 16  item_rating                 8361 non-null   object \n",
      " 17  show_free_shipping          8361 non-null   bool   \n",
      " 18  shop_location               8361 non-null   object \n",
      " 19  is_on_flash_sale            8361 non-null   bool   \n",
      " 20  shop_name                   8361 non-null   object \n",
      " 21  shop_rating                 8361 non-null   float64\n",
      " 22  global_sold_count           8361 non-null   int64  \n",
      " 23  flash_sale_stock            8361 non-null   int64  \n",
      "dtypes: bool(3), float64(1), int64(15), object(5)\n",
      "memory usage: 1.4+ MB\n"
     ]
    }
   ],
   "source": [
    "df.info()"
   ]
  }
 ],
 "metadata": {
  "kernelspec": {
   "display_name": "Python 3",
   "language": "python",
   "name": "python3"
  },
  "language_info": {
   "codemirror_mode": {
    "name": "ipython",
    "version": 3
   },
   "file_extension": ".py",
   "mimetype": "text/x-python",
   "name": "python",
   "nbconvert_exporter": "python",
   "pygments_lexer": "ipython3",
   "version": "3.11.5"
  }
 },
 "nbformat": 4,
 "nbformat_minor": 2
}
