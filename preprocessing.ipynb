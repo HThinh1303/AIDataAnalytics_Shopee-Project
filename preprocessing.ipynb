{
 "cells": [
  {
   "cell_type": "markdown",
   "metadata": {},
   "source": [
    "# 1. Read data from mongoDB"
   ]
  },
  {
   "cell_type": "code",
   "execution_count": 1,
   "metadata": {},
   "outputs": [],
   "source": [
    "from pymongo.mongo_client import MongoClient\n",
    "from pymongo.server_api import ServerApi\n",
    "import pandas as pd"
   ]
  },
  {
   "cell_type": "markdown",
   "metadata": {},
   "source": [
    "Check ip address https://whatismyipaddress.com/vi-vn/index?fbclid=IwAR1i50O9Py5PZk7UlnVXVHz2BU4MuPpQcnewuPg6KBJMx8oC9gPcFs5SbGg"
   ]
  },
  {
   "cell_type": "code",
   "execution_count": 3,
   "metadata": {},
   "outputs": [
    {
     "name": "stdout",
     "output_type": "stream",
     "text": [
      "Pinged your deployment. You successfully connected to MongoDB!\n"
     ]
    },
    {
     "data": {
      "text/html": [
       "<div>\n",
       "<style scoped>\n",
       "    .dataframe tbody tr th:only-of-type {\n",
       "        vertical-align: middle;\n",
       "    }\n",
       "\n",
       "    .dataframe tbody tr th {\n",
       "        vertical-align: top;\n",
       "    }\n",
       "\n",
       "    .dataframe thead th {\n",
       "        text-align: right;\n",
       "    }\n",
       "</style>\n",
       "<table border=\"1\" class=\"dataframe\">\n",
       "  <thead>\n",
       "    <tr style=\"text-align: right;\">\n",
       "      <th></th>\n",
       "      <th>crawl_time</th>\n",
       "      <th>mall_id</th>\n",
       "      <th>mall_name</th>\n",
       "      <th>titles</th>\n",
       "      <th>links</th>\n",
       "      <th>default price</th>\n",
       "      <th>promotional_price</th>\n",
       "      <th>rating</th>\n",
       "      <th>num_reviews</th>\n",
       "      <th>num_sold</th>\n",
       "      <th>num_available</th>\n",
       "      <th>num_like</th>\n",
       "      <th>detrailed_product</th>\n",
       "    </tr>\n",
       "  </thead>\n",
       "  <tbody>\n",
       "    <tr>\n",
       "      <th>0</th>\n",
       "      <td>2023-10-29 22:57:27</td>\n",
       "      <td>sp.btw2</td>\n",
       "      <td>Aviano Menswear</td>\n",
       "      <td>Áo Giữ Nhiệt Nam Dài Tay AVIANO Vải Heattech C...</td>\n",
       "      <td>https://shopee.vn/%C3%81o-Gi%E1%BB%AF-Nhi%E1%B...</td>\n",
       "      <td>₫250.000</td>\n",
       "      <td>₫129.000</td>\n",
       "      <td></td>\n",
       "      <td></td>\n",
       "      <td>0</td>\n",
       "      <td></td>\n",
       "      <td>Đã thích (1)</td>\n",
       "      <td>{'Danh Mục': 'Shopee\n",
       "Thời Trang Nam\n",
       "Áo\n",
       "Áo Thun...</td>\n",
       "    </tr>\n",
       "    <tr>\n",
       "      <th>1</th>\n",
       "      <td>2023-10-29 22:57:39</td>\n",
       "      <td>sp.btw2</td>\n",
       "      <td>Aviano Menswear</td>\n",
       "      <td>[Mã FATREND2810 giảm đến 30k tối đa 99k] Áo Kh...</td>\n",
       "      <td>https://shopee.vn/-M%C3%A3-FATREND2810-gi%E1%B...</td>\n",
       "      <td>₫450.000</td>\n",
       "      <td>₫250.000</td>\n",
       "      <td>5.0</td>\n",
       "      <td>1</td>\n",
       "      <td>12</td>\n",
       "      <td></td>\n",
       "      <td>Đã thích (1)</td>\n",
       "      <td>{'Danh Mục': 'Shopee\n",
       "Thời Trang Nam\n",
       "Áo Khoác\n",
       "Á...</td>\n",
       "    </tr>\n",
       "    <tr>\n",
       "      <th>2</th>\n",
       "      <td>2023-10-29 22:58:02</td>\n",
       "      <td>sp.btw2</td>\n",
       "      <td>Aviano Menswear</td>\n",
       "      <td>[Mã FATREND2810 giảm đến 30k tối đa 99k] Áo Kh...</td>\n",
       "      <td>https://shopee.vn/-M%C3%A3-FATREND2810-gi%E1%B...</td>\n",
       "      <td>₫450.000</td>\n",
       "      <td>₫250.000</td>\n",
       "      <td></td>\n",
       "      <td></td>\n",
       "      <td>1</td>\n",
       "      <td></td>\n",
       "      <td>Đã thích (1)</td>\n",
       "      <td>{'Danh Mục': 'Shopee\n",
       "Thời Trang Nam\n",
       "Áo Khoác\n",
       "Á...</td>\n",
       "    </tr>\n",
       "    <tr>\n",
       "      <th>3</th>\n",
       "      <td>2023-10-29 22:58:11</td>\n",
       "      <td>sp.btw2</td>\n",
       "      <td>Aviano Menswear</td>\n",
       "      <td>Áo Khoác Nam AVIANO Có Mũ Tháo Rời, Áo Khoác G...</td>\n",
       "      <td>https://shopee.vn/%C3%81o-Kho%C3%A1c-Nam-AVIAN...</td>\n",
       "      <td>₫399.000</td>\n",
       "      <td>₫250.000</td>\n",
       "      <td>5.0</td>\n",
       "      <td>2</td>\n",
       "      <td>3</td>\n",
       "      <td></td>\n",
       "      <td>Đã thích (1)</td>\n",
       "      <td>{'Danh Mục': 'Shopee\n",
       "Thời Trang Nam\n",
       "Áo Khoác\n",
       "Á...</td>\n",
       "    </tr>\n",
       "    <tr>\n",
       "      <th>4</th>\n",
       "      <td>2023-10-29 22:58:21</td>\n",
       "      <td>sp.btw2</td>\n",
       "      <td>Aviano Menswear</td>\n",
       "      <td>Bộ Đồ Nam AVIANO Chất Nỉ Dài Tay Cao Cấp, Bộ T...</td>\n",
       "      <td>https://shopee.vn/B%E1%BB%99-%C4%90%E1%BB%93-N...</td>\n",
       "      <td>₫598.000</td>\n",
       "      <td>₫299.000</td>\n",
       "      <td>4.8</td>\n",
       "      <td>5</td>\n",
       "      <td>17</td>\n",
       "      <td></td>\n",
       "      <td>Đã thích (5)</td>\n",
       "      <td>{'Danh Mục': 'Shopee\n",
       "Thời Trang Nam\n",
       "Đồ Bộ', 'T...</td>\n",
       "    </tr>\n",
       "  </tbody>\n",
       "</table>\n",
       "</div>"
      ],
      "text/plain": [
       "            crawl_time  mall_id        mall_name  \\\n",
       "0  2023-10-29 22:57:27  sp.btw2  Aviano Menswear   \n",
       "1  2023-10-29 22:57:39  sp.btw2  Aviano Menswear   \n",
       "2  2023-10-29 22:58:02  sp.btw2  Aviano Menswear   \n",
       "3  2023-10-29 22:58:11  sp.btw2  Aviano Menswear   \n",
       "4  2023-10-29 22:58:21  sp.btw2  Aviano Menswear   \n",
       "\n",
       "                                              titles  \\\n",
       "0  Áo Giữ Nhiệt Nam Dài Tay AVIANO Vải Heattech C...   \n",
       "1  [Mã FATREND2810 giảm đến 30k tối đa 99k] Áo Kh...   \n",
       "2  [Mã FATREND2810 giảm đến 30k tối đa 99k] Áo Kh...   \n",
       "3  Áo Khoác Nam AVIANO Có Mũ Tháo Rời, Áo Khoác G...   \n",
       "4  Bộ Đồ Nam AVIANO Chất Nỉ Dài Tay Cao Cấp, Bộ T...   \n",
       "\n",
       "                                               links default price  \\\n",
       "0  https://shopee.vn/%C3%81o-Gi%E1%BB%AF-Nhi%E1%B...      ₫250.000   \n",
       "1  https://shopee.vn/-M%C3%A3-FATREND2810-gi%E1%B...      ₫450.000   \n",
       "2  https://shopee.vn/-M%C3%A3-FATREND2810-gi%E1%B...      ₫450.000   \n",
       "3  https://shopee.vn/%C3%81o-Kho%C3%A1c-Nam-AVIAN...      ₫399.000   \n",
       "4  https://shopee.vn/B%E1%BB%99-%C4%90%E1%BB%93-N...      ₫598.000   \n",
       "\n",
       "  promotional_price rating num_reviews num_sold num_available      num_like  \\\n",
       "0          ₫129.000                           0                Đã thích (1)   \n",
       "1          ₫250.000    5.0           1       12                Đã thích (1)   \n",
       "2          ₫250.000                           1                Đã thích (1)   \n",
       "3          ₫250.000    5.0           2        3                Đã thích (1)   \n",
       "4          ₫299.000    4.8           5       17                Đã thích (5)   \n",
       "\n",
       "                                   detrailed_product  \n",
       "0  {'Danh Mục': 'Shopee\n",
       "Thời Trang Nam\n",
       "Áo\n",
       "Áo Thun...  \n",
       "1  {'Danh Mục': 'Shopee\n",
       "Thời Trang Nam\n",
       "Áo Khoác\n",
       "Á...  \n",
       "2  {'Danh Mục': 'Shopee\n",
       "Thời Trang Nam\n",
       "Áo Khoác\n",
       "Á...  \n",
       "3  {'Danh Mục': 'Shopee\n",
       "Thời Trang Nam\n",
       "Áo Khoác\n",
       "Á...  \n",
       "4  {'Danh Mục': 'Shopee\n",
       "Thời Trang Nam\n",
       "Đồ Bộ', 'T...  "
      ]
     },
     "execution_count": 3,
     "metadata": {},
     "output_type": "execute_result"
    }
   ],
   "source": [
    "password = \"minhquan\"\n",
    "uri = \"mongodb+srv://minhquan:{}@cluster0.fkdmnkx.mongodb.net/?retryWrites=true&w=majority\".format(password)\n",
    "\n",
    "# Create a new client and connect to the server\n",
    "client = MongoClient(uri, server_api=ServerApi('1'))\n",
    "\n",
    "# Send a ping to confirm a successful connection\n",
    "try:\n",
    "    client.admin.command('ping')\n",
    "    print(\"Pinged your deployment. You successfully connected to MongoDB!\")\n",
    "except Exception as e:\n",
    "    print(e)\n",
    "\n",
    "db = client['Task2_Database']\n",
    "collection = db['shopee_data']\n",
    "\n",
    "data = list(collection.find())\n",
    "\n",
    "# Read data from MongoDB and save it in a list\n",
    "cursor = collection.find()\n",
    "data_list = []\n",
    "for document in cursor: \n",
    "    del document['_id']\n",
    "    data_list.append(document)\n",
    "\n",
    "\n",
    "df = pd.DataFrame(data_list)\n",
    "df.head()"
   ]
  },
  {
   "cell_type": "markdown",
   "metadata": {},
   "source": [
    "# 2. Extract data"
   ]
  },
  {
   "cell_type": "markdown",
   "metadata": {},
   "source": [
    "## 2.1 Shape Data"
   ]
  },
  {
   "cell_type": "code",
   "execution_count": 16,
   "metadata": {},
   "outputs": [
    {
     "name": "stdout",
     "output_type": "stream",
     "text": [
      "Dữ liệu có 13 cột\n",
      "Dữ liệu có 1538 dòng\n"
     ]
    }
   ],
   "source": [
    "print(f'Dữ liệu có {df.shape[1]} cột')\n",
    "print(f'Dữ liệu có {df.shape[0]} dòng')"
   ]
  },
  {
   "cell_type": "markdown",
   "metadata": {},
   "source": [
    "## 2.2 Data type"
   ]
  },
  {
   "cell_type": "code",
   "execution_count": 11,
   "metadata": {},
   "outputs": [
    {
     "name": "stdout",
     "output_type": "stream",
     "text": [
      "<class 'pandas.core.frame.DataFrame'>\n",
      "RangeIndex: 1538 entries, 0 to 1537\n",
      "Data columns (total 13 columns):\n",
      " #   Column             Non-Null Count  Dtype \n",
      "---  ------             --------------  ----- \n",
      " 0   crawl_time         1538 non-null   object\n",
      " 1   mall_id            1538 non-null   object\n",
      " 2   mall_name          1538 non-null   object\n",
      " 3   titles             1538 non-null   object\n",
      " 4   links              1538 non-null   object\n",
      " 5   default price      1538 non-null   object\n",
      " 6   promotional_price  1538 non-null   object\n",
      " 7   rating             1538 non-null   object\n",
      " 8   num_reviews        1538 non-null   object\n",
      " 9   num_sold           1538 non-null   object\n",
      " 10  num_available      1538 non-null   object\n",
      " 11  num_like           1538 non-null   object\n",
      " 12  detrailed_product  1538 non-null   object\n",
      "dtypes: object(13)\n",
      "memory usage: 156.3+ KB\n"
     ]
    }
   ],
   "source": [
    "df.info()"
   ]
  },
  {
   "cell_type": "markdown",
   "metadata": {},
   "source": [
    "## 2.3 Column\n",
    "Mô tả các cột dữ liệu và các kiểu dữ liệu mong muốn\n",
    "\n",
    "| Column    | descriptions| Type |\n",
    "|:-----------:|:-------------:|:---|\n",
    "| crawl_time| thời gian dữ liệu được lấy về| Data time|\n",
    "| mall_id| ID của shop| string|\n",
    "| mall_name| Tên shop| string |\n",
    "| titles| Tiêu đề của sản phẩm| string|\n",
    "| links| Liên kết dẫn đến sản phẩm| string|\n",
    "| default price| Giá mặc định| float|\n",
    "| promotional price| Gía khuyến mãi| float|\n",
    "| rating| Đánh giá của sản phẩm| float|\n",
    "| num_reviews| Số lượt review| int|\n",
    "| num_sold| Số sản phẩm đã bán| int|\n",
    "| num_available| Số sản phẩm trong kho| int|\n",
    "| num_like| Số lượt thính| int|\n",
    "| detrailed_product| Mô tả sản phẩm| string|"
   ]
  },
  {
   "cell_type": "markdown",
   "metadata": {},
   "source": [
    "## 2.4 Find null values\n",
    "Vì dữ liệu được cào về là '' nếu nó là null nên thay vì tìm null thì ta tìm các giá trị ''"
   ]
  },
  {
   "cell_type": "code",
   "execution_count": 13,
   "metadata": {},
   "outputs": [
    {
     "data": {
      "text/plain": [
       "crawl_time             0\n",
       "mall_id                0\n",
       "mall_name              0\n",
       "titles                 0\n",
       "links                  0\n",
       "default price        289\n",
       "promotional_price      0\n",
       "rating                75\n",
       "num_reviews           75\n",
       "num_sold               0\n",
       "num_available        199\n",
       "num_like              46\n",
       "detrailed_product      0\n",
       "dtype: int64"
      ]
     },
     "execution_count": 13,
     "metadata": {},
     "output_type": "execute_result"
    }
   ],
   "source": [
    "(df == \"\").sum()"
   ]
  }
 ],
 "metadata": {
  "kernelspec": {
   "display_name": "Python 3",
   "language": "python",
   "name": "python3"
  },
  "language_info": {
   "codemirror_mode": {
    "name": "ipython",
    "version": 3
   },
   "file_extension": ".py",
   "mimetype": "text/x-python",
   "name": "python",
   "nbconvert_exporter": "python",
   "pygments_lexer": "ipython3",
   "version": "3.11.5"
  }
 },
 "nbformat": 4,
 "nbformat_minor": 2
}
