{
 "cells": [
  {
   "cell_type": "code",
   "execution_count": 2,
   "metadata": {},
   "outputs": [
    {
     "name": "stdout",
     "output_type": "stream",
     "text": [
      "['sp.btw2', 'poloman.vn', 'tsla.store', 'coolmate.vn', '5s_official', 'rough.vn', 'patternvn', 'levents.vn', 'guzado.vn', 'thoitrangmando', 'tsimple_official', 'owen.fashion', 'thoitrangbiluxury', 'feaer_store', 'sukiyafashion.vn', '4menstores', 'haidang.fashion', 'thoitrangnam4u', 'thoitrangeverest', 'kojibavn']\n",
      "['sp.btw2', 'poloman.vn', 'tsla.store', 'coolmate.vn', '5s_official', 'rough.vn', 'patternvn', 'levents.vn', 'guzado.vn', 'thoitrangmando', 'tsimple_official', 'owen.fashion', 'thoitrangbiluxury', 'feaer_store', 'sukiyafashion.vn', '4menstores', 'haidang.fashion', 'thoitrangnam4u', 'thoitrangeverest', 'kojibavn']\n",
      "['sp.btw2', 'poloman.vn', 'tsla.store', 'coolmate.vn', '5s_official', 'rough.vn', 'patternvn', 'levents.vn', 'guzado.vn', 'thoitrangmando', 'tsimple_official', 'owen.fashion', 'thoitrangbiluxury', 'feaer_store', 'sukiyafashion.vn', '4menstores', 'haidang.fashion', 'thoitrangnam4u', 'thoitrangeverest', 'kojibavn']\n",
      "['sp.btw2', 'poloman.vn', 'tsla.store', 'coolmate.vn', '5s_official', 'rough.vn', 'patternvn', 'levents.vn', 'guzado.vn', 'thoitrangmando', 'tsimple_official', 'owen.fashion', 'thoitrangbiluxury', 'feaer_store', 'sukiyafashion.vn', '4menstores', 'haidang.fashion', 'thoitrangnam4u', 'thoitrangeverest', 'kojibavn']\n",
      "['sp.btw2', 'poloman.vn', 'tsla.store', 'coolmate.vn', '5s_official', 'rough.vn', 'patternvn', 'levents.vn', 'guzado.vn', 'thoitrangmando', 'tsimple_official', 'owen.fashion', 'thoitrangbiluxury', 'feaer_store', 'sukiyafashion.vn', '4menstores', 'haidang.fashion', 'thoitrangnam4u', 'thoitrangeverest', 'kojibavn']\n",
      "['sp.btw2', 'poloman.vn', 'tsla.store', 'coolmate.vn', '5s_official', 'rough.vn', 'patternvn', 'levents.vn', 'guzado.vn', 'thoitrangmando', 'tsimple_official', 'owen.fashion', 'thoitrangbiluxury', 'feaer_store', 'sukiyafashion.vn', '4menstores', 'haidang.fashion', 'thoitrangnam4u', 'thoitrangeverest', 'kojibavn']\n",
      "['sp.btw2', 'poloman.vn', 'tsla.store', 'coolmate.vn', '5s_official', 'rough.vn', 'patternvn', 'levents.vn', 'guzado.vn', 'thoitrangmando', 'tsimple_official', 'owen.fashion', 'thoitrangbiluxury', 'feaer_store', 'sukiyafashion.vn', '4menstores', 'haidang.fashion', 'thoitrangnam4u', 'thoitrangeverest', 'kojibavn']\n",
      "['sp.btw2', 'poloman.vn', 'tsla.store', 'coolmate.vn', '5s_official', 'rough.vn', 'patternvn', 'levents.vn', 'guzado.vn', 'thoitrangmando', 'tsimple_official', 'owen.fashion', 'thoitrangbiluxury', 'feaer_store', 'sukiyafashion.vn', '4menstores', 'haidang.fashion', 'thoitrangnam4u', 'thoitrangeverest', 'kojibavn']\n",
      "['sp.btw2', 'poloman.vn', 'tsla.store', 'coolmate.vn', '5s_official', 'rough.vn', 'patternvn', 'levents.vn', 'guzado.vn', 'thoitrangmando', 'tsimple_official', 'owen.fashion', 'thoitrangbiluxury', 'feaer_store', 'sukiyafashion.vn', '4menstores', 'haidang.fashion', 'thoitrangnam4u', 'thoitrangeverest', 'kojibavn']\n",
      "['sp.btw2', 'poloman.vn', 'tsla.store', 'coolmate.vn', '5s_official', 'rough.vn', 'patternvn', 'levents.vn', 'guzado.vn', 'thoitrangmando', 'tsimple_official', 'owen.fashion', 'thoitrangbiluxury', 'feaer_store', 'sukiyafashion.vn', '4menstores', 'haidang.fashion', 'thoitrangnam4u', 'thoitrangeverest', 'kojibavn']\n",
      "['sp.btw2', 'poloman.vn', 'tsla.store', 'coolmate.vn', '5s_official', 'rough.vn', 'patternvn', 'levents.vn', 'guzado.vn', 'thoitrangmando', 'tsimple_official', 'owen.fashion', 'thoitrangbiluxury', 'feaer_store', 'sukiyafashion.vn', '4menstores', 'haidang.fashion', 'thoitrangnam4u', 'thoitrangeverest', 'kojibavn']\n",
      "['sp.btw2', 'poloman.vn', 'tsla.store', 'coolmate.vn', '5s_official', 'rough.vn', 'patternvn', 'levents.vn', 'guzado.vn', 'thoitrangmando', 'tsimple_official', 'owen.fashion', 'thoitrangbiluxury', 'feaer_store', 'sukiyafashion.vn', '4menstores', 'haidang.fashion', 'thoitrangnam4u', 'thoitrangeverest', 'kojibavn']\n",
      "['sp.btw2', 'poloman.vn', 'tsla.store', 'coolmate.vn', '5s_official', 'rough.vn', 'patternvn', 'levents.vn', 'guzado.vn', 'thoitrangmando', 'tsimple_official', 'owen.fashion', 'thoitrangbiluxury', 'feaer_store', 'sukiyafashion.vn', '4menstores', 'haidang.fashion', 'thoitrangnam4u', 'thoitrangeverest', 'kojibavn']\n",
      "['sp.btw2', 'poloman.vn', 'tsla.store', 'coolmate.vn', '5s_official', 'rough.vn', 'patternvn', 'levents.vn', 'guzado.vn', 'thoitrangmando', 'tsimple_official', 'owen.fashion', 'thoitrangbiluxury', 'feaer_store', 'sukiyafashion.vn', '4menstores', 'haidang.fashion', 'thoitrangnam4u', 'thoitrangeverest', 'kojibavn']\n",
      "['sp.btw2', 'poloman.vn', 'tsla.store', 'coolmate.vn', '5s_official', 'rough.vn', 'patternvn', 'levents.vn', 'guzado.vn', 'thoitrangmando', 'tsimple_official', 'owen.fashion', 'thoitrangbiluxury', 'feaer_store', 'sukiyafashion.vn', '4menstores', 'haidang.fashion', 'thoitrangnam4u', 'thoitrangeverest', 'kojibavn']\n",
      "['sp.btw2', 'poloman.vn', 'tsla.store', 'coolmate.vn', '5s_official', 'rough.vn', 'patternvn', 'levents.vn', 'guzado.vn', 'thoitrangmando', 'tsimple_official', 'owen.fashion', 'thoitrangbiluxury', 'feaer_store', 'sukiyafashion.vn', '4menstores', 'haidang.fashion', 'thoitrangnam4u', 'thoitrangeverest', 'kojibavn']\n",
      "['sp.btw2', 'poloman.vn', 'tsla.store', 'coolmate.vn', '5s_official', 'rough.vn', 'patternvn', 'levents.vn', 'guzado.vn', 'thoitrangmando', 'tsimple_official', 'owen.fashion', 'thoitrangbiluxury', 'feaer_store', 'sukiyafashion.vn', '4menstores', 'haidang.fashion', 'thoitrangnam4u', 'thoitrangeverest', 'kojibavn']\n",
      "['sp.btw2', 'poloman.vn', 'tsla.store', 'coolmate.vn', '5s_official', 'rough.vn', 'patternvn', 'levents.vn', 'guzado.vn', 'thoitrangmando', 'tsimple_official', 'owen.fashion', 'thoitrangbiluxury', 'feaer_store', 'sukiyafashion.vn', '4menstores', 'haidang.fashion', 'thoitrangnam4u', 'thoitrangeverest', 'kojibavn']\n",
      "['sp.btw2', 'poloman.vn', 'tsla.store', 'coolmate.vn', '5s_official', 'rough.vn', 'patternvn', 'levents.vn', 'guzado.vn', 'thoitrangmando', 'tsimple_official', 'owen.fashion', 'thoitrangbiluxury', 'feaer_store', 'sukiyafashion.vn', '4menstores', 'haidang.fashion', 'thoitrangnam4u', 'thoitrangeverest', 'kojibavn']\n",
      "['sp.btw2', 'poloman.vn', 'tsla.store', 'coolmate.vn', '5s_official', 'rough.vn', 'patternvn', 'levents.vn', 'guzado.vn', 'thoitrangmando', 'tsimple_official', 'owen.fashion', 'thoitrangbiluxury', 'feaer_store', 'sukiyafashion.vn', '4menstores', 'haidang.fashion', 'thoitrangnam4u', 'thoitrangeverest', 'kojibavn']\n",
      "['sp.btw2', 'poloman.vn', 'tsla.store', 'coolmate.vn', '5s_official', 'rough.vn', 'patternvn', 'levents.vn', 'guzado.vn', 'thoitrangmando', 'tsimple_official', 'owen.fashion', 'thoitrangbiluxury', 'feaer_store', 'sukiyafashion.vn', '4menstores', 'haidang.fashion', 'thoitrangnam4u', 'thoitrangeverest', 'kojibavn']\n",
      "['sp.btw2', 'poloman.vn', 'tsla.store', 'coolmate.vn', '5s_official', 'rough.vn', 'patternvn', 'levents.vn', 'guzado.vn', 'thoitrangmando', 'tsimple_official', 'owen.fashion', 'thoitrangbiluxury', 'feaer_store', 'sukiyafashion.vn', '4menstores', 'haidang.fashion', 'thoitrangnam4u', 'thoitrangeverest', 'kojibavn']\n",
      "['sp.btw2', 'poloman.vn', 'tsla.store', 'coolmate.vn', '5s_official', 'rough.vn', 'patternvn', 'levents.vn', 'guzado.vn', 'thoitrangmando', 'tsimple_official', 'owen.fashion', 'thoitrangbiluxury', 'feaer_store', 'sukiyafashion.vn', '4menstores', 'haidang.fashion', 'thoitrangnam4u', 'thoitrangeverest', 'kojibavn']\n",
      "['sp.btw2', 'poloman.vn', 'tsla.store', 'coolmate.vn', '5s_official', 'rough.vn', 'patternvn', 'levents.vn', 'guzado.vn', 'thoitrangmando', 'tsimple_official', 'owen.fashion', 'thoitrangbiluxury', 'feaer_store', 'sukiyafashion.vn', '4menstores', 'haidang.fashion', 'thoitrangnam4u', 'thoitrangeverest', 'kojibavn']\n",
      "['sp.btw2', 'poloman.vn', 'tsla.store', 'coolmate.vn', '5s_official', 'rough.vn', 'patternvn', 'levents.vn', 'guzado.vn', 'thoitrangmando', 'tsimple_official', 'owen.fashion', 'thoitrangbiluxury', 'feaer_store', 'sukiyafashion.vn', '4menstores', 'haidang.fashion', 'thoitrangnam4u', 'thoitrangeverest', 'kojibavn']\n",
      "['sp.btw2', 'poloman.vn', 'tsla.store', 'coolmate.vn', '5s_official', 'rough.vn', 'patternvn', 'levents.vn', 'guzado.vn', 'thoitrangmando', 'tsimple_official', 'owen.fashion', 'thoitrangbiluxury', 'feaer_store', 'sukiyafashion.vn', '4menstores', 'haidang.fashion', 'thoitrangnam4u', 'thoitrangeverest', 'kojibavn']\n",
      "['sp.btw2', 'poloman.vn', 'tsla.store', 'coolmate.vn', '5s_official', 'rough.vn', 'patternvn', 'levents.vn', 'guzado.vn', 'thoitrangmando', 'tsimple_official', 'owen.fashion', 'thoitrangbiluxury', 'feaer_store', 'sukiyafashion.vn', '4menstores', 'haidang.fashion', 'thoitrangnam4u', 'thoitrangeverest', 'kojibavn']['sp.btw2', 'poloman.vn', 'tsla.store', 'coolmate.vn', '5s_official', 'rough.vn', 'patternvn', 'levents.vn', 'guzado.vn', 'thoitrangmando', 'tsimple_official', 'owen.fashion', 'thoitrangbiluxury', 'feaer_store', 'sukiyafashion.vn', '4menstores', 'haidang.fashion', 'thoitrangnam4u', 'thoitrangeverest', 'kojibavn']\n",
      "['sp.btw2', 'poloman.vn', 'tsla.store', 'coolmate.vn', '5s_official', 'rough.vn', 'patternvn', 'levents.vn', 'guzado.vn', 'thoitrangmando', 'tsimple_official', 'owen.fashion', 'thoitrangbiluxury', 'feaer_store', 'sukiyafashion.vn', '4menstores', 'haidang.fashion', 'thoitrangnam4u', 'thoitrangeverest', 'kojibavn']\n",
      "\n",
      "['sp.btw2', 'poloman.vn', 'tsla.store', 'coolmate.vn', '5s_official', 'rough.vn', 'patternvn', 'levents.vn', 'guzado.vn', 'thoitrangmando', 'tsimple_official', 'owen.fashion', 'thoitrangbiluxury', 'feaer_store', 'sukiyafashion.vn', '4menstores', 'haidang.fashion', 'thoitrangnam4u', 'thoitrangeverest', 'kojibavn']\n",
      "['sp.btw2', 'poloman.vn', 'tsla.store', 'coolmate.vn', '5s_official', 'rough.vn', 'patternvn', 'levents.vn', 'guzado.vn', 'thoitrangmando', 'tsimple_official', 'owen.fashion', 'thoitrangbiluxury', 'feaer_store', 'sukiyafashion.vn', '4menstores', 'haidang.fashion', 'thoitrangnam4u', 'thoitrangeverest', 'kojibavn']\n",
      "['sp.btw2', 'poloman.vn', 'tsla.store', 'coolmate.vn', '5s_official', 'rough.vn', 'patternvn', 'levents.vn', 'guzado.vn', 'thoitrangmando', 'tsimple_official', 'owen.fashion', 'thoitrangbiluxury', 'feaer_store', 'sukiyafashion.vn', '4menstores', 'haidang.fashion', 'thoitrangnam4u', 'thoitrangeverest', 'kojibavn']\n",
      "['sp.btw2', 'poloman.vn', 'tsla.store', 'coolmate.vn', '5s_official', 'rough.vn', 'patternvn', 'levents.vn', 'guzado.vn', 'thoitrangmando', 'tsimple_official', 'owen.fashion', 'thoitrangbiluxury', 'feaer_store', 'sukiyafashion.vn', '4menstores', 'haidang.fashion', 'thoitrangnam4u', 'thoitrangeverest', 'kojibavn']\n",
      "['sp.btw2', 'poloman.vn', 'tsla.store', 'coolmate.vn', '5s_official', 'rough.vn', 'patternvn', 'levents.vn', 'guzado.vn', 'thoitrangmando', 'tsimple_official', 'owen.fashion', 'thoitrangbiluxury', 'feaer_store', 'sukiyafashion.vn', '4menstores', 'haidang.fashion', 'thoitrangnam4u', 'thoitrangeverest', 'kojibavn']\n",
      "['sp.btw2', 'poloman.vn', 'tsla.store', 'coolmate.vn', '5s_official', 'rough.vn', 'patternvn', 'levents.vn', 'guzado.vn', 'thoitrangmando', 'tsimple_official', 'owen.fashion', 'thoitrangbiluxury', 'feaer_store', 'sukiyafashion.vn', '4menstores', 'haidang.fashion', 'thoitrangnam4u', 'thoitrangeverest', 'kojibavn']\n",
      "['sp.btw2', 'poloman.vn', 'tsla.store', 'coolmate.vn', '5s_official', 'rough.vn', 'patternvn', 'levents.vn', 'guzado.vn', 'thoitrangmando', 'tsimple_official', 'owen.fashion', 'thoitrangbiluxury', 'feaer_store', 'sukiyafashion.vn', '4menstores', 'haidang.fashion', 'thoitrangnam4u', 'thoitrangeverest', 'kojibavn']\n",
      "['sp.btw2', 'poloman.vn', 'tsla.store', 'coolmate.vn', '5s_official', 'rough.vn', 'patternvn', 'levents.vn', 'guzado.vn', 'thoitrangmando', 'tsimple_official', 'owen.fashion', 'thoitrangbiluxury', 'feaer_store', 'sukiyafashion.vn', '4menstores', 'haidang.fashion', 'thoitrangnam4u', 'thoitrangeverest', 'kojibavn']\n",
      "['sp.btw2', 'poloman.vn', 'tsla.store', 'coolmate.vn', '5s_official', 'rough.vn', 'patternvn', 'levents.vn', 'guzado.vn', 'thoitrangmando', 'tsimple_official', 'owen.fashion', 'thoitrangbiluxury', 'feaer_store', 'sukiyafashion.vn', '4menstores', 'haidang.fashion', 'thoitrangnam4u', 'thoitrangeverest', 'kojibavn']\n",
      "['sp.btw2', 'poloman.vn', 'tsla.store', 'coolmate.vn', '5s_official', 'rough.vn', 'patternvn', 'levents.vn', 'guzado.vn', 'thoitrangmando', 'tsimple_official', 'owen.fashion', 'thoitrangbiluxury', 'feaer_store', 'sukiyafashion.vn', '4menstores', 'haidang.fashion', 'thoitrangnam4u', 'thoitrangeverest', 'kojibavn']\n",
      "['sp.btw2', 'poloman.vn', 'tsla.store', 'coolmate.vn', '5s_official', 'rough.vn', 'patternvn', 'levents.vn', 'guzado.vn', 'thoitrangmando', 'tsimple_official', 'owen.fashion', 'thoitrangbiluxury', 'feaer_store', 'sukiyafashion.vn', '4menstores', 'haidang.fashion', 'thoitrangnam4u', 'thoitrangeverest', 'kojibavn']\n",
      "['sp.btw2', 'poloman.vn', 'tsla.store', 'coolmate.vn', '5s_official', 'rough.vn', 'patternvn', 'levents.vn', 'guzado.vn', 'thoitrangmando', 'tsimple_official', 'owen.fashion', 'thoitrangbiluxury', 'feaer_store', 'sukiyafashion.vn', '4menstores', 'haidang.fashion', 'thoitrangnam4u', 'thoitrangeverest', 'kojibavn']\n",
      "['sp.btw2', 'poloman.vn', 'tsla.store', 'coolmate.vn', '5s_official', 'rough.vn', 'patternvn', 'levents.vn', 'guzado.vn', 'thoitrangmando', 'tsimple_official', 'owen.fashion', 'thoitrangbiluxury', 'feaer_store', 'sukiyafashion.vn', '4menstores', 'haidang.fashion', 'thoitrangnam4u', 'thoitrangeverest', 'kojibavn']\n"
     ]
    }
   ],
   "source": [
    "import requests\n",
    "from bs4 import BeautifulSoup\n",
    "import random\n",
    "import concurrent.futures\n",
    "\n",
    "#get the list of free proxies\n",
    "def getProxies():\n",
    "    r = requests.get('https://free-proxy-list.net/')\n",
    "    soup = BeautifulSoup(r.content, 'html.parser')\n",
    "    table = soup.find('tbody')\n",
    "    proxies = []\n",
    "    for row in table:\n",
    "        if row.find_all('td')[4].text =='elite proxy':\n",
    "            proxy = ':'.join([row.find_all('td')[0].text, row.find_all('td')[1].text])\n",
    "            proxies.append(proxy)\n",
    "        else:\n",
    "            pass\n",
    "    return proxies\n",
    "\n",
    "def extract(proxy):\n",
    "    #this was for when we took a list into the function, without conc futures.\n",
    "    #proxy = random.choice(proxylist)\n",
    "    headers = {'User-Agent': 'Mozilla/5.0 (Windows NT 10.0; Win64; x64; rv:80.0) Gecko/20100101 Firefox/80.0'}\n",
    "    try:\n",
    "        #change the url to https://httpbin.org/ip that doesnt block anything\n",
    "        top_shopee_mall_name = []\n",
    "        top_shopee_mall_name_url = 'https://shopee.vn/api/v4/official_shop/get_shops?category_id=11035567&limit=20&offset=0'\n",
    "        request = requests.get(top_shopee_mall_name_url)\n",
    "        if request.status_code == 200:\n",
    "            for raw_data in request.json().get('data').get('official_shops'):\n",
    "                top_shopee_mall_name.append(raw_data['username'])\n",
    "\n",
    "        print(top_shopee_mall_name)\n",
    "    except requests.ConnectionError as err:\n",
    "        print(repr(err))\n",
    "    return proxy\n",
    "\n",
    "proxylist = getProxies()\n",
    "#print(len(proxylist))\n",
    "\n",
    "#check them all with futures super quick\n",
    "with concurrent.futures.ThreadPoolExecutor() as executor:\n",
    "        executor.map(extract, proxylist)"
   ]
  },
  {
   "cell_type": "code",
   "execution_count": 15,
   "metadata": {},
   "outputs": [],
   "source": [
    "import pandas as pd\n",
    "\n",
    "df_1 = pd.DataFrame(list(zip(proxylist,proxylist)),columns=['title','link'])\n",
    "# df.to_csv('proxylist.csv',index=False,header=False)\n",
    "df_2 = pd.DataFrame(list(zip(proxylist,proxylist,df_1['title'],df_1['link'])),columns=['title','link','price','def'])\n",
    "a = zip(proxylist,proxylist)\n"
   ]
  },
  {
   "cell_type": "code",
   "execution_count": 3,
   "metadata": {},
   "outputs": [
    {
     "data": {
      "text/plain": [
       "'137.74.65.101:80'"
      ]
     },
     "execution_count": 3,
     "metadata": {},
     "output_type": "execute_result"
    }
   ],
   "source": [
    "import random\n",
    "proxydf = pd.read_csv('./proxylist.csv',header=None)\n",
    "proxies = proxydf.values.tolist()\n",
    "proxylist = [proxy for sublist in proxies for proxy in sublist]\n",
    "proxy = random.choice(proxylist)\n",
    "proxy"
   ]
  },
  {
   "cell_type": "code",
   "execution_count": 50,
   "metadata": {},
   "outputs": [
    {
     "ename": "WebDriverException",
     "evalue": "Message: unknown error: net::ERR_TUNNEL_CONNECTION_FAILED\n  (Session info: MicrosoftEdge=117.0.2045.60)\nStacktrace:\n\tGetHandleVerifier [0x00007FF7386D99F2+63682]\n\tMicrosoft::Applications::Events::ILogConfiguration::operator* [0x00007FF738661942+267762]\n\t(No symbol) [0x00007FF73841AC0E]\n\t(No symbol) [0x00007FF73841340C]\n\t(No symbol) [0x00007FF738404E99]\n\t(No symbol) [0x00007FF738406427]\n\t(No symbol) [0x00007FF7384050CB]\n\t(No symbol) [0x00007FF73840415F]\n\t(No symbol) [0x00007FF738404064]\n\t(No symbol) [0x00007FF73840235B]\n\t(No symbol) [0x00007FF7384030A3]\n\t(No symbol) [0x00007FF73841D6FD]\n\t(No symbol) [0x00007FF7384A7751]\n\t(No symbol) [0x00007FF73848C84A]\n\t(No symbol) [0x00007FF73845EC51]\n\t(No symbol) [0x00007FF7384A6A81]\n\t(No symbol) [0x00007FF73848C623]\n\t(No symbol) [0x00007FF73845DA7A]\n\t(No symbol) [0x00007FF73845CD6B]\n\t(No symbol) [0x00007FF73845E204]\n\tMicrosoft::Applications::Events::EventProperty::to_string [0x00007FF7388A5EF9+1233737]\n\t(No symbol) [0x00007FF7384DB274]\n\tMicrosoft::Applications::Events::EventProperty::~EventProperty [0x00007FF7385A32AA+33498]\n\tMicrosoft::Applications::Events::EventProperty::~EventProperty [0x00007FF73859BDE9+3609]\n\tMicrosoft::Applications::Events::EventProperty::to_string [0x00007FF7388A4C94+1229028]\n\tMicrosoft::Applications::Events::ILogConfiguration::operator* [0x00007FF73866BAE8+309144]\n\tMicrosoft::Applications::Events::ILogConfiguration::operator* [0x00007FF7386667C4+287860]\n\tMicrosoft::Applications::Events::ILogConfiguration::operator* [0x00007FF7386668F2+288162]\n\tMicrosoft::Applications::Events::ILogConfiguration::operator* [0x00007FF738659FF1+236705]\n\tBaseThreadInitThunk [0x00007FFA3183257D+29]\n\tRtlUserThreadStart [0x00007FFA332AAA68+40]\n",
     "output_type": "error",
     "traceback": [
      "\u001b[1;31m---------------------------------------------------------------------------\u001b[0m",
      "\u001b[1;31mWebDriverException\u001b[0m                        Traceback (most recent call last)",
      "\u001b[1;32mc:\\Users\\ADMIN\\Processing\\AIDataAnalysis-Project\\Thinh-CrawlData\\crawlproxies.ipynb Cell 4\u001b[0m line \u001b[0;36m<cell line: 10>\u001b[1;34m()\u001b[0m\n\u001b[0;32m      <a href='vscode-notebook-cell:/c%3A/Users/ADMIN/Processing/AIDataAnalysis-Project/Thinh-CrawlData/crawlproxies.ipynb#W4sZmlsZQ%3D%3D?line=7'>8</a>\u001b[0m options\u001b[39m.\u001b[39madd_argument(\u001b[39mf\u001b[39m\u001b[39m'\u001b[39m\u001b[39m--proxy-server=\u001b[39m\u001b[39m{\u001b[39;00mproxy\u001b[39m}\u001b[39;00m\u001b[39m'\u001b[39m)\n\u001b[0;32m      <a href='vscode-notebook-cell:/c%3A/Users/ADMIN/Processing/AIDataAnalysis-Project/Thinh-CrawlData/crawlproxies.ipynb#W4sZmlsZQ%3D%3D?line=8'>9</a>\u001b[0m driver \u001b[39m=\u001b[39m webdriver\u001b[39m.\u001b[39mEdge(options\u001b[39m=\u001b[39moptions)\n\u001b[1;32m---> <a href='vscode-notebook-cell:/c%3A/Users/ADMIN/Processing/AIDataAnalysis-Project/Thinh-CrawlData/crawlproxies.ipynb#W4sZmlsZQ%3D%3D?line=9'>10</a>\u001b[0m driver\u001b[39m.\u001b[39;49mget(\u001b[39m\"\u001b[39;49m\u001b[39mhttps://shopee.vn/api/v4/official_shop/get_shops?category_id=11035567&limit=20&offset=0\u001b[39;49m\u001b[39m'\u001b[39;49m\u001b[39m\"\u001b[39;49m)\n",
      "File \u001b[1;32mc:\\Python\\Python39\\lib\\site-packages\\selenium\\webdriver\\remote\\webdriver.py:353\u001b[0m, in \u001b[0;36mWebDriver.get\u001b[1;34m(self, url)\u001b[0m\n\u001b[0;32m    351\u001b[0m \u001b[39mdef\u001b[39;00m \u001b[39mget\u001b[39m(\u001b[39mself\u001b[39m, url: \u001b[39mstr\u001b[39m) \u001b[39m-\u001b[39m\u001b[39m>\u001b[39m \u001b[39mNone\u001b[39;00m:\n\u001b[0;32m    352\u001b[0m     \u001b[39m\"\"\"Loads a web page in the current browser session.\"\"\"\u001b[39;00m\n\u001b[1;32m--> 353\u001b[0m     \u001b[39mself\u001b[39;49m\u001b[39m.\u001b[39;49mexecute(Command\u001b[39m.\u001b[39;49mGET, {\u001b[39m\"\u001b[39;49m\u001b[39murl\u001b[39;49m\u001b[39m\"\u001b[39;49m: url})\n",
      "File \u001b[1;32mc:\\Python\\Python39\\lib\\site-packages\\selenium\\webdriver\\remote\\webdriver.py:344\u001b[0m, in \u001b[0;36mWebDriver.execute\u001b[1;34m(self, driver_command, params)\u001b[0m\n\u001b[0;32m    342\u001b[0m response \u001b[39m=\u001b[39m \u001b[39mself\u001b[39m\u001b[39m.\u001b[39mcommand_executor\u001b[39m.\u001b[39mexecute(driver_command, params)\n\u001b[0;32m    343\u001b[0m \u001b[39mif\u001b[39;00m response:\n\u001b[1;32m--> 344\u001b[0m     \u001b[39mself\u001b[39;49m\u001b[39m.\u001b[39;49merror_handler\u001b[39m.\u001b[39;49mcheck_response(response)\n\u001b[0;32m    345\u001b[0m     response[\u001b[39m\"\u001b[39m\u001b[39mvalue\u001b[39m\u001b[39m\"\u001b[39m] \u001b[39m=\u001b[39m \u001b[39mself\u001b[39m\u001b[39m.\u001b[39m_unwrap_value(response\u001b[39m.\u001b[39mget(\u001b[39m\"\u001b[39m\u001b[39mvalue\u001b[39m\u001b[39m\"\u001b[39m, \u001b[39mNone\u001b[39;00m))\n\u001b[0;32m    346\u001b[0m     \u001b[39mreturn\u001b[39;00m response\n",
      "File \u001b[1;32mc:\\Python\\Python39\\lib\\site-packages\\selenium\\webdriver\\remote\\errorhandler.py:229\u001b[0m, in \u001b[0;36mErrorHandler.check_response\u001b[1;34m(self, response)\u001b[0m\n\u001b[0;32m    227\u001b[0m         alert_text \u001b[39m=\u001b[39m value[\u001b[39m\"\u001b[39m\u001b[39malert\u001b[39m\u001b[39m\"\u001b[39m]\u001b[39m.\u001b[39mget(\u001b[39m\"\u001b[39m\u001b[39mtext\u001b[39m\u001b[39m\"\u001b[39m)\n\u001b[0;32m    228\u001b[0m     \u001b[39mraise\u001b[39;00m exception_class(message, screen, stacktrace, alert_text)  \u001b[39m# type: ignore[call-arg]  # mypy is not smart enough here\u001b[39;00m\n\u001b[1;32m--> 229\u001b[0m \u001b[39mraise\u001b[39;00m exception_class(message, screen, stacktrace)\n",
      "\u001b[1;31mWebDriverException\u001b[0m: Message: unknown error: net::ERR_TUNNEL_CONNECTION_FAILED\n  (Session info: MicrosoftEdge=117.0.2045.60)\nStacktrace:\n\tGetHandleVerifier [0x00007FF7386D99F2+63682]\n\tMicrosoft::Applications::Events::ILogConfiguration::operator* [0x00007FF738661942+267762]\n\t(No symbol) [0x00007FF73841AC0E]\n\t(No symbol) [0x00007FF73841340C]\n\t(No symbol) [0x00007FF738404E99]\n\t(No symbol) [0x00007FF738406427]\n\t(No symbol) [0x00007FF7384050CB]\n\t(No symbol) [0x00007FF73840415F]\n\t(No symbol) [0x00007FF738404064]\n\t(No symbol) [0x00007FF73840235B]\n\t(No symbol) [0x00007FF7384030A3]\n\t(No symbol) [0x00007FF73841D6FD]\n\t(No symbol) [0x00007FF7384A7751]\n\t(No symbol) [0x00007FF73848C84A]\n\t(No symbol) [0x00007FF73845EC51]\n\t(No symbol) [0x00007FF7384A6A81]\n\t(No symbol) [0x00007FF73848C623]\n\t(No symbol) [0x00007FF73845DA7A]\n\t(No symbol) [0x00007FF73845CD6B]\n\t(No symbol) [0x00007FF73845E204]\n\tMicrosoft::Applications::Events::EventProperty::to_string [0x00007FF7388A5EF9+1233737]\n\t(No symbol) [0x00007FF7384DB274]\n\tMicrosoft::Applications::Events::EventProperty::~EventProperty [0x00007FF7385A32AA+33498]\n\tMicrosoft::Applications::Events::EventProperty::~EventProperty [0x00007FF73859BDE9+3609]\n\tMicrosoft::Applications::Events::EventProperty::to_string [0x00007FF7388A4C94+1229028]\n\tMicrosoft::Applications::Events::ILogConfiguration::operator* [0x00007FF73866BAE8+309144]\n\tMicrosoft::Applications::Events::ILogConfiguration::operator* [0x00007FF7386667C4+287860]\n\tMicrosoft::Applications::Events::ILogConfiguration::operator* [0x00007FF7386668F2+288162]\n\tMicrosoft::Applications::Events::ILogConfiguration::operator* [0x00007FF738659FF1+236705]\n\tBaseThreadInitThunk [0x00007FFA3183257D+29]\n\tRtlUserThreadStart [0x00007FFA332AAA68+40]\n"
     ]
    }
   ],
   "source": [
    "from selenium import webdriver\n",
    "\n",
    "proxydf = pd.read_csv('./proxylist.csv',header=None)\n",
    "proxies = proxydf.values.tolist()\n",
    "proxylist = [proxy for sublist in proxies for proxy in sublist]\n",
    "options = webdriver.EdgeOptions()\n",
    "proxy = random.choice(proxylist)\n",
    "options.add_argument(f'--proxy-server={proxy}')\n",
    "driver = webdriver.Edge(options=options)\n",
    "driver.get(\"https://shopee.vn/api/v4/official_shop/get_shops?category_id=11035567&limit=20&offset=0'\")"
   ]
  },
  {
   "cell_type": "code",
   "execution_count": 16,
   "metadata": {},
   "outputs": [
    {
     "name": "stdout",
     "output_type": "stream",
     "text": [
      "[[1]]\n",
      "[['A']]\n"
     ]
    }
   ],
   "source": [
    "my_list = [([1], ['A'])]\n",
    "\n",
    "numbers_list = [item[0] for item in my_list]\n",
    "letters_list = [item[1] for item in my_list]\n",
    "\n",
    "print(numbers_list)\n",
    "print(letters_list)"
   ]
  },
  {
   "cell_type": "code",
   "execution_count": 15,
   "metadata": {},
   "outputs": [
    {
     "data": {
      "text/plain": [
       "tuple"
      ]
     },
     "execution_count": 15,
     "metadata": {},
     "output_type": "execute_result"
    }
   ],
   "source": [
    "my_list = (1, 'A', 2)\n",
    "type(my_list)"
   ]
  }
 ],
 "metadata": {
  "kernelspec": {
   "display_name": "Python 3",
   "language": "python",
   "name": "python3"
  },
  "language_info": {
   "codemirror_mode": {
    "name": "ipython",
    "version": 3
   },
   "file_extension": ".py",
   "mimetype": "text/x-python",
   "name": "python",
   "nbconvert_exporter": "python",
   "pygments_lexer": "ipython3",
   "version": "3.9.0"
  }
 },
 "nbformat": 4,
 "nbformat_minor": 2
}
