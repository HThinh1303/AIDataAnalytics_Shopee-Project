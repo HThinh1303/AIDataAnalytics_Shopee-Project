{
 "cells": [
  {
   "cell_type": "code",
   "execution_count": 54,
   "metadata": {},
   "outputs": [],
   "source": [
    "import requests\n",
    "from tqdm import tqdm\n",
    "import pandas as pd\n",
    "import json"
   ]
  },
  {
   "cell_type": "markdown",
   "metadata": {},
   "source": [
    "#### **1. Get all 20 shopee mall**"
   ]
  },
  {
   "cell_type": "code",
   "execution_count": 55,
   "metadata": {},
   "outputs": [],
   "source": [
    "payload = {\n",
    "    'category_id': 11035567,\n",
    "    'limit': 20,\n",
    "    'offset': 0\n",
    "}\n",
    "headers = {\n",
    "    'Accept': '*/*',\n",
    "    'Accept-Language': 'en-US,en;q=0.9',\n",
    "    'Cookie': 'SPC_F=rDW5Nh6DF1E9pc5zd1KLjyUH3Pb9wEsE; REC_T_ID=b4f17b94-3e46-11ee-8366-347379167cc4; _gcl_au=1.1.1023688809.1692418391; _med=refer; SPC_CLIENTID=ckRXNU5oNkRGMUU5upjceygpajxlufhk; _hjSessionUser_868286=eyJpZCI6IjUxZWYyZDE1LWEzYWUtNWYwZC1hODNmLWQyMTY4Yjc2OWNkOSIsImNyZWF0ZWQiOjE2OTUxNDA0Mjg4MTMsImV4aXN0aW5nIjp0cnVlfQ==; SPC_ST=.UGE1Z3ExT2F0ZWhwZ2MyehcVr24uuUKm3pHMFnp5Q8BS+ujYk7cGXhHlgxY8J9sJzSqwjh+Y2y01blsOSGzCQfDImQDKNzQnuljrL/mm5/Z/vaWDpwO9UXwBtOjD4obdBUYYcMpP3sh69ZFtjrAu92zT9yovhDTKmudYRncLRzVXzgzYhTNGJC0jh2gILJAOGIdkm2A7unB7ymjMmMSRSA==; SPC_U=1078039954; SPC_T_IV=cUdZcDFoaVNMbElqVUxoUQ==; SPC_R_T_ID=yewtxfZ232n7aRJTJH/eByH3E/pLiZ3QcBNAVdRGnpKscfX1d3XYRCIlUbwrMK+yQugZ4z9yiZvSsK2fl73yqdKH2kRMFKOF+dUMtm5G9vjzwlRguiGKxwrXdle9mXNmFlav+eR36n0j8izW6lsf3sF3UV61Op3paD1LWxRQLFQ=; SPC_R_T_IV=cUdZcDFoaVNMbElqVUxoUQ==; SPC_T_ID=yewtxfZ232n7aRJTJH/eByH3E/pLiZ3QcBNAVdRGnpKscfX1d3XYRCIlUbwrMK+yQugZ4z9yiZvSsK2fl73yqdKH2kRMFKOF+dUMtm5G9vjzwlRguiGKxwrXdle9mXNmFlav+eR36n0j8izW6lsf3sF3UV61Op3paD1LWxRQLFQ=; SPC_SI=nDoVZQAAAAA2MDhWcU5pbIJCGQAAAAAAZ0QxVElZZ2Y=; _QPWSDCXHZQA=7a6001bc-463b-40bb-8030-e5e1fb520f73; REC7iLP4Q=d683755a-f0e3-4fa2-b968-e3fa0e8cb84a; _gid=GA1.2.1139452006.1696138638; csrftoken=8mcKBOb0uSPTkB11SArwpiPoKo0kTGp1; _hjIncludedInSessionSample_868286=0; _hjSession_868286=eyJpZCI6ImE1ZTE5ZGU5LTY1OGUtNGU2Mi1iZjNmLTVmYjllOGQ1NDJjZCIsImNyZWF0ZWQiOjE2OTYxNDk4MDc0NTksImluU2FtcGxlIjpmYWxzZSwic2Vzc2lvbml6ZXJCZXRhRW5hYmxlZCI6ZmFsc2V9; _hjAbsoluteSessionInProgress=0; AMP_TOKEN=%24NOT_FOUND; shopee_webUnique_ccd=BgpqsAcHyO3fKlyOsleQrg%3D%3D%7CRkzkYTpK9w7Cr6uxP5Nssuspc1k1S3ujX1Aqk4DDH3dUTVQDxz%2BAzcK%2F1NXA1JtT%2F3IGb%2FgLGGo%3D%7CrAFZgwLX4FcvaifZ%7C08%7C3; ds=a9a5b478ccd474ac9548865fc193a497; _ga=GA1.1.1101825207.1694085109; _dc_gtm_UA-61914164-6=1; _ga_M32T05RVZT=GS1.1.1696149807.14.1.1696150524.17.0.0; SPC_EC=MTRuNWxpZzNqVm9nM0NOOIK5gZ6rHfw8nDbOJ+b5hGCaHq8b1YsO8SbvjDAC2i6AYQ0/qInwzbwDqc93RbCYbl0XrY5HWrtmmTpoiOKDqQW5BdLzEmuq+8wSdQPfl2I1HekcCKxH4tyRzBmWtnCm7/vJJWxiqQMX0Kw6FwHie9Y7/sqBCCKkV2eWJatEuae8',\n",
    "    'Referer': 'https://shopee.vn/mall/Th%E1%BB%9Di-Trang-Nam-cat.11035567',\n",
    "    'Sec-Ch-Ua': '\"Microsoft Edge\";v=\"117\", \"Not;A=Brand\";v=\"8\", \"Chromium\";v=\"117\"',\n",
    "    'Sec-Ch-Ua-Mobile': '?0',\n",
    "    'Sec-Ch-Ua-Platform': \"Windows\",\n",
    "    'Sec-Fetch-Dest': 'empty',\n",
    "    'Sec-Fetch-Mode': 'cors',\n",
    "    'Sec-Fetch-Site': 'same-origin',\n",
    "    'User-Agent': 'Mozilla/5.0 (Windows NT 10.0; Win64; x64) AppleWebKit/537.36 (KHTML, like Gecko)\\\n",
    "          Chrome/117.0.0.0 Safari/537.36 Edg/117.0.2045.43'\n",
    "}"
   ]
  },
  {
   "cell_type": "code",
   "execution_count": 56,
   "metadata": {},
   "outputs": [
    {
     "data": {
      "text/plain": [
       "['sp.btw2',\n",
       " 'poloman.vn',\n",
       " 'tsla.store',\n",
       " 'coolmate.vn',\n",
       " '5s_official',\n",
       " 'rough.vn',\n",
       " 'patternvn',\n",
       " 'levents.vn',\n",
       " 'guzado.vn',\n",
       " 'thoitrangmando',\n",
       " 'tsimple_official',\n",
       " 'owen.fashion',\n",
       " 'thoitrangbiluxury',\n",
       " 'feaer_store',\n",
       " 'sukiyafashion.vn',\n",
       " '4menstores',\n",
       " 'haidang.fashion',\n",
       " 'thoitrangnam4u',\n",
       " 'thoitrangeverest',\n",
       " 'kojibavn']"
      ]
     },
     "execution_count": 56,
     "metadata": {},
     "output_type": "execute_result"
    }
   ],
   "source": [
    "top_shopee_mall_name = []\n",
    "top_shopee_mall_name_url = 'https://shopee.vn/api/v4/official_shop/get_shops?category_id=11035567&limit=20&offset=0'\n",
    "request = requests.get(top_shopee_mall_name_url,json = payload)\n",
    "if request.status_code == 200:\n",
    "        for raw_data in request.json().get('data').get('official_shops'):\n",
    "            top_shopee_mall_name.append(raw_data['username'])\n",
    "\n",
    "top_shopee_mall_name"
   ]
  },
  {
   "cell_type": "markdown",
   "metadata": {},
   "source": [
    "#### **2. Get some basic information about all shops above**"
   ]
  },
  {
   "cell_type": "code",
   "execution_count": 57,
   "metadata": {},
   "outputs": [],
   "source": [
    "headers = {\n",
    "    'Accept': 'application/json',\n",
    "    'Accept-Language': 'en-US,en;q=0.9',\n",
    "    'Content-Type': 'application/json',\n",
    "    'Sec-Ch-Ua': '\"Microsoft Edge\";v=\"117\", \"Not;A=Brand\";v=\"8\", \"Chromium\";v=\"117\"',\n",
    "    'Sec-Ch-Ua-Mobile': '?0',\n",
    "    'Sec-Ch-Ua-Platform': \"Windows\",\n",
    "    'Sec-Fetch-Dest': 'empty',\n",
    "    'Sec-Fetch-Mode': 'cors',\n",
    "    'Sec-Fetch-Site': 'same-origin',\n",
    "    'X-Api-Source': 'pc',\n",
    "    'User-Agent': 'Mozilla/5.0 (Windows NT 10.0; Win64; x64) AppleWebKit/537.36 (KHTML, like Gecko)\\\n",
    "          Chrome/117.0.0.0 Safari/537.36 Edg/117.0.2045.43',\n",
    "}"
   ]
  },
  {
   "cell_type": "code",
   "execution_count": 58,
   "metadata": {},
   "outputs": [
    {
     "name": "stderr",
     "output_type": "stream",
     "text": [
      "  0%|          | 0/2 [00:00<?, ?it/s]"
     ]
    },
    {
     "name": "stderr",
     "output_type": "stream",
     "text": [
      " 50%|█████     | 1/2 [00:00<00:00,  6.20it/s]"
     ]
    },
    {
     "name": "stdout",
     "output_type": "stream",
     "text": [
      "sp.btw2\n",
      "Request page 1 success!!!\n",
      "poloman.vn\n"
     ]
    },
    {
     "name": "stderr",
     "output_type": "stream",
     "text": [
      "100%|██████████| 2/2 [00:00<00:00,  5.41it/s]"
     ]
    },
    {
     "name": "stdout",
     "output_type": "stream",
     "text": [
      "Request page 2 success!!!\n"
     ]
    },
    {
     "name": "stderr",
     "output_type": "stream",
     "text": [
      "\n"
     ]
    },
    {
     "data": {
      "text/plain": [
       "[{'userid': 31524218,\n",
       "  'username': 'kojibavn',\n",
       "  'shopid': 31522834,\n",
       "  'shop_name': 'Kojiba Việt Nam',\n",
       "  'logo': 'e1dffbf70f8c1d1a86376c784dcbec53',\n",
       "  'logo_pc': '4eb1fd88a044d66267f56fa26be01ea0',\n",
       "  'shop_collection_id': 0,\n",
       "  'ctime': 1620981895,\n",
       "  'brand_label': 0},\n",
       " {'userid': 31524218,\n",
       "  'username': 'kojibavn',\n",
       "  'shopid': 31522834,\n",
       "  'shop_name': 'Kojiba Việt Nam',\n",
       "  'logo': 'e1dffbf70f8c1d1a86376c784dcbec53',\n",
       "  'logo_pc': '4eb1fd88a044d66267f56fa26be01ea0',\n",
       "  'shop_collection_id': 0,\n",
       "  'ctime': 1620981895,\n",
       "  'brand_label': 0}]"
      ]
     },
     "execution_count": 58,
     "metadata": {},
     "output_type": "execute_result"
    }
   ],
   "source": [
    "result = []\n",
    "for i in tqdm(range(0, 2)):\n",
    "    username = top_shopee_mall_name[i]\n",
    "    print(username)\n",
    "    shopee_mall_link = 'https://shopee.vn/api/v4/shop/get_shop_base?entry_point=&need_cancel_rate=true&request_source=shop_home_page&username=poloman.vn&version=1'\n",
    "    request = requests.get(shopee_mall_link,headers= headers)\n",
    "    print('Request page {} success!!!'.format(i+1)) \n",
    "    json_data = json.loads(request.content)\n",
    "    result.append(raw_data)\n",
    "result "
   ]
  },
  {
   "cell_type": "code",
   "execution_count": 59,
   "metadata": {},
   "outputs": [],
   "source": [
    "headers = {\n",
    "    'Accept': 'application/json',\n",
    "    'Accept-Language': 'en-US,en;q=0.9',\n",
    "    # 'Af-Ac-Enc-Dat': 'AAczLjEuMC0yAAABiup2hlUAABB7AyAAAAAAAAAAAiSDMivzlQLSxM+ckhoNQFSXC2lM8MS3gD4Lv0cZsWDYYHdpR1c3Np8BzcsRRPm/ZZgFLUngG5gdglPRlokHaBO6riuJzOhSEoCDq8ldg+RcTmGj6lzRcbx+u+wuFArvx+zvDDCzMOdK2xGN7mdKcf0ai/FxzOhSEoCDq8ldg+RcTmGj6lzRcbx+u+wuFArvx+zvDDBGV2Ia3yab8r/0vvuJ/GyfpohFHsEFTkPArlIVDn5bBVRiZeaLJCVJU0SfG5dRLyXEplSWPkm3eMEC3t+KLNlvGAt58mjadOCSqdJGJMljclRiZeaLJCVJU0SfG5dRLyUkt5o/L2hurNZdjgTLmxRMHvJ7N52r4m0D8jIqw9a6iRBPodmt4EdszHIcF4opk6Zj8zWMv2dpFbCXms0hOjrksc2Xbfdc2gpt/+aJUOqVPH+RElVIBn5MeXS/LyLxjKnvRx0oiZszvRZQ+FgouKVWUm81eICX4Txctp6sHTqpVp//cwEukqsuva2zqLJydW6X/zYTJ8PH9tVFw9ppG9ibi5I0ZwVrbBtTFPeeExMIIeeVRECh1w86oD4hwXzqKNmaSwVgo63gkD6Hi7NqhmotT14xBhlstwzFVbpGSg7Ptge0QLpVTRCfVD3w6bKLknGThu3C41F+EFZz7Rf36hqUVMmhl46B4z2uti4wxvZhGgloudhGw7tceafP8eF6VelBv1pvANqsnr27Mtl5LxShQNgK3pV7rCF+7GNqwLfDvtk88iRhqkaoDTR7rHKHR9bjMIwT67oCiYy82GY/tpEqoA5pPF71ehtfLfs0EdWQeoXc0BT49w84W88ZL/MLESZurOcHJT3Ov/NgDcpNB/85lBm1T4YFAza1u9h2LyQExofYioL8r9LbQKzcxqzD97w5sTZHDL/xYEQDRoUw2jKTpN3/jm5WWaOQ0xDSlVOc8Zf/NhMnw8f21UXD2mkb2JvInyjEHMWuQECQrhUuuhKJaSVLel8zTZIH8WDcEh6mV0gD9O1aYGgjmjuYbekv+r+EX9T/dpoCDB9/Txc/1j6NFrGr+QGeSnksSyFWoxdyxA==',\n",
    "    'Af-Ac-Enc-Sz-Token': 'uRKw9a+zYIi3wlgBlywMxw==|QkzkYTpK9w7Cr6uxP5Nssuspc1k1S3ujX1Aqk0iUG3dUTVQDxz+AzcK/1NXA1JtT/3IGb/gLGGo=|rAFZgwLX4FcvaifZ|08|3',\n",
    "    'Content-Type': 'application/json',\n",
    "    'Cookie': 'SPC_F=rDW5Nh6DF1E9pc5zd1KLjyUH3Pb9wEsE; REC_T_ID=b4f17b94-3e46-11ee-8366-347379167cc4; _gcl_au=1.1.1023688809.1692418391; _med=refer; SPC_CLIENTID=ckRXNU5oNkRGMUU5upjceygpajxlufhk; _hjSessionUser_868286=eyJpZCI6IjUxZWYyZDE1LWEzYWUtNWYwZC1hODNmLWQyMTY4Yjc2OWNkOSIsImNyZWF0ZWQiOjE2OTUxNDA0Mjg4MTMsImV4aXN0aW5nIjp0cnVlfQ==; SPC_ST=.UGE1Z3ExT2F0ZWhwZ2MyehcVr24uuUKm3pHMFnp5Q8BS+ujYk7cGXhHlgxY8J9sJzSqwjh+Y2y01blsOSGzCQfDImQDKNzQnuljrL/mm5/Z/vaWDpwO9UXwBtOjD4obdBUYYcMpP3sh69ZFtjrAu92zT9yovhDTKmudYRncLRzVXzgzYhTNGJC0jh2gILJAOGIdkm2A7unB7ymjMmMSRSA==; SPC_U=1078039954; SPC_T_IV=cUdZcDFoaVNMbElqVUxoUQ==; SPC_R_T_ID=yewtxfZ232n7aRJTJH/eByH3E/pLiZ3QcBNAVdRGnpKscfX1d3XYRCIlUbwrMK+yQugZ4z9yiZvSsK2fl73yqdKH2kRMFKOF+dUMtm5G9vjzwlRguiGKxwrXdle9mXNmFlav+eR36n0j8izW6lsf3sF3UV61Op3paD1LWxRQLFQ=; SPC_R_T_IV=cUdZcDFoaVNMbElqVUxoUQ==; SPC_T_ID=yewtxfZ232n7aRJTJH/eByH3E/pLiZ3QcBNAVdRGnpKscfX1d3XYRCIlUbwrMK+yQugZ4z9yiZvSsK2fl73yqdKH2kRMFKOF+dUMtm5G9vjzwlRguiGKxwrXdle9mXNmFlav+eR36n0j8izW6lsf3sF3UV61Op3paD1LWxRQLFQ=; SPC_SI=nDoVZQAAAAA2MDhWcU5pbIJCGQAAAAAAZ0QxVElZZ2Y=; _QPWSDCXHZQA=7a6001bc-463b-40bb-8030-e5e1fb520f73; REC7iLP4Q=d683755a-f0e3-4fa2-b968-e3fa0e8cb84a; _gid=GA1.2.1139452006.1696138638; csrftoken=8mcKBOb0uSPTkB11SArwpiPoKo0kTGp1; _hjIncludedInSessionSample_868286=0; _hjSession_868286=eyJpZCI6ImE1ZTE5ZGU5LTY1OGUtNGU2Mi1iZjNmLTVmYjllOGQ1NDJjZCIsImNyZWF0ZWQiOjE2OTYxNDk4MDc0NTksImluU2FtcGxlIjpmYWxzZSwic2Vzc2lvbml6ZXJCZXRhRW5hYmxlZCI6ZmFsc2V9; _hjAbsoluteSessionInProgress=0; AMP_TOKEN=%24NOT_FOUND; shopee_webUnique_ccd=BgpqsAcHyO3fKlyOsleQrg%3D%3D%7CRkzkYTpK9w7Cr6uxP5Nssuspc1k1S3ujX1Aqk4DDH3dUTVQDxz%2BAzcK%2F1NXA1JtT%2F3IGb%2FgLGGo%3D%7CrAFZgwLX4FcvaifZ%7C08%7C3; ds=a9a5b478ccd474ac9548865fc193a497; _ga=GA1.1.1101825207.1694085109; _dc_gtm_UA-61914164-6=1; _ga_M32T05RVZT=GS1.1.1696149807.14.1.1696150524.17.0.0; SPC_EC=MTRuNWxpZzNqVm9nM0NOOIK5gZ6rHfw8nDbOJ+b5hGCaHq8b1YsO8SbvjDAC2i6AYQ0/qInwzbwDqc93RbCYbl0XrY5HWrtmmTpoiOKDqQW5BdLzEmuq+8wSdQPfl2I1HekcCKxH4tyRzBmWtnCm7/vJJWxiqQMX0Kw6FwHie9Y7/sqBCCKkV2eWJatEuae8',\n",
    "    'Referer': 'https://shopee.vn/sp.btw2',\n",
    "    'Sec-Ch-Ua': '\"Microsoft Edge\";v=\"117\", \"Not;A=Brand\";v=\"8\", \"Chromium\";v=\"117\"',\n",
    "    'Sec-Ch-Ua-Mobile': '?0',\n",
    "    'Sec-Ch-Ua-Platform': \"Windows\",\n",
    "    'Sec-Fetch-Dest': 'empty',\n",
    "    'Sec-Fetch-Mode': 'cors',\n",
    "    'Sec-Fetch-Site': 'same-origin',\n",
    "    'X-Api-Source': 'pc',\n",
    "    'X-Sap-Sec': '7oS/mNF1+acVMacVB7cAMaJVB7cVMaJVMacvMacVmaMVMwJ1MacuMacVfg1B1SmVMac2M1cV0aMVMyWaNOYHERTlVLpjAr2/Xkw+10wao06HyAdzYk1VnQIt7gjJUsLBslAdSPRTrwNiFrMcTv+chWHhS7cM2enGvHrggnmDUR8hI11LxyXUqQ/a8avADMwbKZegDM2HZq33QbJ0S/QocouxL8ULOKJJCTAbyRjU1KJqJzK1ipRU77xeOGicVoNc2eoOpywPJI2Ug5erpSjOtDavLlXS5voTmljUK/Jt6osuYn7l9XM0a5RrN0dh11RISkOQ+KH3baZ1EbGASoUdW/jlhGvrvSIppwYdztRPVfhTGGTNjMAdQIaLkbDCNubA6OxsxKs7pzubGb3iQLxeCvIXbR4GPUT3j6gN/ZWigcem0IPrTiWWktEJ4UOcUbxeMmfLUheRsCOUbBc9ecYZLtiU2hqVq7mVMaQhhUBhhKEEsacVMadb1PqBNacVMbFVMacwMacVKSa3FHpE3yr+Ifmm4MlvE4rjaNGnMacV6nJdhnEph1cAMaFVNacuMamVMacAMacVdacVMbJVMacCU034pEdnYXR7NeXKFHfXypxrramVMac23UlhsZeL3acVMaQ=',\n",
    "    'User-Agent': 'Mozilla/5.0 (Windows NT 10.0; Win64; x64) AppleWebKit/537.36 (KHTML, like Gecko)\\\n",
    "          Chrome/117.0.0.0 Safari/537.36 Edg/117.0.2045.43',\n",
    "}\n",
    "shopee_mall = []\n",
    "shopee_mall_url = 'https://shopee.vn/api/v4/shop/get_shop_base?entry_point=&need_cancel_rate=true&request_source=shop_home_page&username=sp.btw2&version=1'\n",
    "request = requests.get(shopee_mall_url,headers=headers)\n",
    "request.content\n",
    "# if request.status_code == 200:\n",
    "#         for raw_data in request.json():\n",
    "#             shopee_mall.append(raw_data)\n",
    "\n",
    "# shopee_mall\n",
    "import json\n",
    "\n",
    "json_data = json.loads(request.content)\n"
   ]
  },
  {
   "cell_type": "code",
   "execution_count": 60,
   "metadata": {},
   "outputs": [
    {
     "data": {
      "text/plain": [
       "{'is_customized': False,\n",
       " 'is_login': True,\n",
       " 'platform': 0,\n",
       " 'action_type': 2,\n",
       " 'error': 90309999,\n",
       " 'tracking_id': 'd189d3f6-7fc6-4ced-85de-3162d80cb51e',\n",
       " 'report_extra_info': ''}"
      ]
     },
     "execution_count": 60,
     "metadata": {},
     "output_type": "execute_result"
    }
   ],
   "source": [
    "json_data"
   ]
  },
  {
   "cell_type": "code",
   "execution_count": 61,
   "metadata": {},
   "outputs": [
    {
     "name": "stdout",
     "output_type": "stream",
     "text": [
      "{'is_customized': False, 'is_login': False, 'platform': 0, 'action_type': 2, 'error': 90309999, 'tracking_id': 'fe9d4b83-61d3-459a-be51-971c38a1c0c1', 'report_extra_info': ''}\n"
     ]
    }
   ],
   "source": [
    "import subprocess\n",
    "import json\n",
    "\n",
    "def curl_request(url):\n",
    "    command = ['curl', url]\n",
    "    result = subprocess.run(command, capture_output=True, text=True)\n",
    "    \n",
    "    if result.returncode == 0:\n",
    "        return result.stdout\n",
    "    else:\n",
    "        print(f\"Error: {result.stderr}\")\n",
    "        return None\n",
    "\n",
    "# Example usage\n",
    "url = 'https://shopee.vn/api/v4/shop/get_shop_base?entry_point=&need_cancel_rate=true&request_source=shop_home_page&username=sp.btw2&version=1'\n",
    "response = curl_request(url)\n",
    "if response:\n",
    "    data = json.loads(response)\n",
    "    # Process the data as needed\n",
    "    print(data)"
   ]
  },
  {
   "cell_type": "code",
   "execution_count": 65,
   "metadata": {},
   "outputs": [
    {
     "name": "stdout",
     "output_type": "stream",
     "text": [
      "b'{\"is_customized\":false,\"is_login\":false,\"platform\":0,\"action_type\":2,\"error\":90309999,\"tracking_id\":\"77cf6f9d-d6f6-4fb2-83bc-3977f17837b5\",\"report_extra_info\":\"\"}\\n'\n"
     ]
    }
   ],
   "source": [
    "headers = {\n",
    "    'Accept': 'application/json',\n",
    "    'Accept-Language': 'en-US,en;q=0.9',\n",
    "    'Content-Type': 'application/json',\n",
    "    'Cookie': 'SPC_F=rDW5Nh6DF1E9pc5zd1KLjyUH3Pb9wEsE; REC_T_ID=b4f17b94-3e46-11ee-8366-347379167cc4; _gcl_au=1.1.1023688809.1692418391; _med=refer; SPC_CLIENTID=ckRXNU5oNkRGMUU5upjceygpajxlufhk; _hjSessionUser_868286=eyJpZCI6IjUxZWYyZDE1LWEzYWUtNWYwZC1hODNmLWQyMTY4Yjc2OWNkOSIsImNyZWF0ZWQiOjE2OTUxNDA0Mjg4MTMsImV4aXN0aW5nIjp0cnVlfQ==; SPC_U=1078039954; SPC_T_IV=cUdZcDFoaVNMbElqVUxoUQ==; SPC_R_T_ID=yewtxfZ232n7aRJTJH/eByH3E/pLiZ3QcBNAVdRGnpKscfX1d3XYRCIlUbwrMK+yQugZ4z9yiZvSsK2fl73yqdKH2kRMFKOF+dUMtm5G9vjzwlRguiGKxwrXdle9mXNmFlav+eR36n0j8izW6lsf3sF3UV61Op3paD1LWxRQLFQ=; SPC_R_T_IV=cUdZcDFoaVNMbElqVUxoUQ==; SPC_T_ID=yewtxfZ232n7aRJTJH/eByH3E/pLiZ3QcBNAVdRGnpKscfX1d3XYRCIlUbwrMK+yQugZ4z9yiZvSsK2fl73yqdKH2kRMFKOF+dUMtm5G9vjzwlRguiGKxwrXdle9mXNmFlav+eR36n0j8izW6lsf3sF3UV61Op3paD1LWxRQLFQ=; SPC_SI=/4gSZQAAAAB0RXVSbkhNZtubRAAAAAAAeVA4NG5QZUc=; _gid=GA1.2.1284444144.1696348129; csrftoken=ccGuYxUd0AkbnD5FoTsj4EOKUyEQ0027; _QPWSDCXHZQA=7a6001bc-463b-40bb-8030-e5e1fb520f73; REC7iLP4Q=d683755a-f0e3-4fa2-b968-e3fa0e8cb84a; _hjIncludedInSessionSample_868286=0; _hjSession_868286=eyJpZCI6IjRlZmMxMzhjLTM3ZDItNDMzMi1hZTg4LWNlNDk0OTY0NDg4MCIsImNyZWF0ZWQiOjE2OTY0MzgxNjQxNDksImluU2FtcGxlIjpmYWxzZSwic2Vzc2lvbml6ZXJCZXRhRW5hYmxlZCI6ZmFsc2V9; AMP_TOKEN=%24NOT_FOUND; shopee_webUnique_ccd=6Ksw9RQk3VT%2FanKQ18YKaw%3D%3D%7CPV9MtR5z38f6nEsRJd5jBk82cKeAKEmCtZ8L%2Be6YwdbS5z0E8QBArA31yn23pCxkV299cxiuz%2FRzNg%3D%3D%7CKr7%2BYi6e1tJn9gJ7%7C08%7C3; ds=25d0d99e9f6b356e6842cb9a0f3074a8; _ga=GA1.1.1101825207.1694085109; _ga_M32T05RVZT=GS1.1.1696438162.26.1.1696438973.42.0.0',\n",
    "    'Referer': 'https://shopee.vn/guzado.vn',\n",
    "    'Cache-Control':'no-cache',\n",
    "    'Pragma': 'no-cache',\n",
    "    'Sec-Ch-Ua': '\"Microsoft Edge\";v=\"117\", \"Not;A=Brand\";v=\"8\", \"Chromium\";v=\"117\"',\n",
    "    'Sec-Ch-Ua-Mobile': '?0',\n",
    "    'Sec-Ch-Ua-Platform': \"Windows\",\n",
    "    'Sec-Fetch-Dest': 'empty',\n",
    "    'Sec-Fetch-Mode': 'cors',\n",
    "    'Sec-Fetch-Site': 'same-origin',\n",
    "    'User-Agent': 'Mozilla/5.0 (Windows NT 10.0; Win64; x64) AppleWebKit/537.36 (KHTML, like Gecko) Chrome/117.0.0.0 Safari/537.36 Edg/117.0.2045.47',\n",
    "    # 'X-Csrftoken': 'ccGuYxUd0AkbnD5FoTsj4EOKUyEQ0027',\n",
    "    # 'X-Requested-With': 'XMLHttpRequest'\n",
    "}\n",
    "item = []\n",
    "item_url = 'https://shopee.vn/api/v4/shop/get_shop_base?entry_point=&need_cancel_rate=true&request_source=shop_home_page&username=guzado.vn&version=1'\n",
    "\n",
    "request = requests.get(item_url,headers=headers)\n",
    "print(request.content)"
   ]
  },
  {
   "cell_type": "code",
   "execution_count": 5,
   "metadata": {},
   "outputs": [],
   "source": [
    "import requests\n",
    "import hashlib\n",
    "\n",
    "def encrypt_SHA256(password):\n",
    "   sha_signature = \\\n",
    "      hashlib.sha256((hashlib.md5(password.encode()).hexdigest()).encode()).hexdigest()\n",
    "   return sha_signature"
   ]
  },
  {
   "cell_type": "code",
   "execution_count": 42,
   "metadata": {},
   "outputs": [],
   "source": [
    "# payload = {\n",
    "#    \"csrf_token\": \"VWtaSXV0UHhSNW1jaUU3Zxw0wn2fZ05I64uv8HbZPql0h8rb9FDl5Z9bAQ19Or5Goio9VuXQTZ8HMzFv4AZrjKUKE8diC+KD0c9JAjmAbYeU+0rqlGfkUSmBae3v0isUUSS3T82n4XsmAMAMwOKMDGW/FurK9pLXZNoxtFVb5H3yFLWSa4/R3SsIx+KJ33Gd72IGV9CFmahgm7hbX1Lp+rECFTlt6lstdL5YrzI1RmoR+/DC6lTXwW5jHF1xszCoAFl/PjtOLgrmHI0rCXbMkYQzHw2FJysnX8Hk7Put+IGGTIMRk74WQSO/d18d05Xg\",\n",
    "#     \"source\" : \"pcmall\",\n",
    "#     \"api_source\" : \"pcmall\"\n",
    "# }\n",
    "headers = {\n",
    "    'Accept': 'application/json',\n",
    "    'Accept-Language': 'en-US,en;q=0.9',\n",
    "    'Authorization': 'BearereyJhbGciOiJIUzI1NiIsInR5cCI6IkpXVCJ9.eyJjcmVhdGVfdGltZSI6MTY5NjQzMTc5MCwiaWQiOiIyMWU2NjYxYy02MmM3LTExZWUtOTczMy1iZTBkMmQzYjRlNTEifQ.6yDsDHwkOfsFgG6P0_LijShU5TviyR9cvri7WkcJTtg',\n",
    "    'Content-Type': 'application/json',\n",
    "    \"Cookie\": \"SPC_F=rDW5Nh6DF1E9pc5zd1KLjyUH3Pb9wEsE; REC_T_ID=b4f17b94-3e46-11ee-8366-347379167cc4; _gcl_au=1.1.1023688809.1692418391; _med=refer; SPC_CLIENTID=ckRXNU5oNkRGMUU5upjceygpajxlufhk; _hjSessionUser_868286=eyJpZCI6IjUxZWYyZDE1LWEzYWUtNWYwZC1hODNmLWQyMTY4Yjc2OWNkOSIsImNyZWF0ZWQiOjE2OTUxNDA0Mjg4MTMsImV4aXN0aW5nIjp0cnVlfQ==; SPC_U=1078039954; SPC_T_IV=cUdZcDFoaVNMbElqVUxoUQ==; SPC_R_T_ID=yewtxfZ232n7aRJTJH/eByH3E/pLiZ3QcBNAVdRGnpKscfX1d3XYRCIlUbwrMK+yQugZ4z9yiZvSsK2fl73yqdKH2kRMFKOF+dUMtm5G9vjzwlRguiGKxwrXdle9mXNmFlav+eR36n0j8izW6lsf3sF3UV61Op3paD1LWxRQLFQ=; SPC_R_T_IV=cUdZcDFoaVNMbElqVUxoUQ==; SPC_T_ID=yewtxfZ232n7aRJTJH/eByH3E/pLiZ3QcBNAVdRGnpKscfX1d3XYRCIlUbwrMK+yQugZ4z9yiZvSsK2fl73yqdKH2kRMFKOF+dUMtm5G9vjzwlRguiGKxwrXdle9mXNmFlav+eR36n0j8izW6lsf3sF3UV61Op3paD1LWxRQLFQ=; SPC_SI=/4gSZQAAAAB0RXVSbkhNZtubRAAAAAAAeVA4NG5QZUc=; _gid=GA1.2.1284444144.1696348129; _hjSession_868286=eyJpZCI6Ijg0YWFjOTc3LTlmNGQtNDJiOC05OWFmLTVmNzg3MzMwOTBiNSIsImNyZWF0ZWQiOjE2OTY0MzE4MDM4MDgsImluU2FtcGxlIjpmYWxzZSwic2Vzc2lvbml6ZXJCZXRhRW5hYmxlZCI6ZmFsc2V9; _hjAbsoluteSessionInProgress=0; _hjIncludedInSessionSample_868286=0; AMP_TOKEN=%24NOT_FOUND; _dc_gtm_UA-61914164-6=1; SPC_ST=.VFpocEpIYzZIejFYODU0eCIaXtTs60mG6kaYGT0rUirNr951E/vRrWvVmvTQ1kS0KK7rSSVdZ1dO5SD7ywWoIwWGNmVMAj+cIIQKo1Mt9TWkHZ3tFlBDSSwdIPnWk1nDwAmguH8342cjaix6VyA5TPTilrOb1JEpHCaUJ0RoHjdSwCm8DOfTotuwfA7KY2DYf3qPDGrL3kpw/CRivJduSQ==; _ga=GA1.2.1101825207.1694085109; _ga_M32T05RVZT=GS1.1.1696431786.25.1.1696434137.37.0.0; SPC_EC=dWQzamJTcDBiT1BOYzM2YTp80Skk9rtfoiUAfAzxY1FECIsI8D3u82RClvr+01f1oNWnqZlQc50zmT4arB18yskxnGexUopTZyBrgXRq8ah7CE5VHfYjR/6PCyeNAhCePHoEDvViJavOZp3yyq9VlfvEsSf91xHnfwcFISmZKmJ8zMFBCBsmZXGQriHyluzS\",\n",
    "    'Sec-Ch-Ua': '\"Microsoft Edge\";v=\"117\", \"Not;A=Brand\";v=\"8\", \"Chromium\";v=\"117\"',\n",
    "    'Sec-Ch-Ua-Mobile': '?0',\n",
    "    'Sec-Ch-Ua-Platform': \"Windows\",\n",
    "    'Sec-Fetch-Dest': 'empty',\n",
    "    'Sec-Fetch-Mode': 'cors',\n",
    "    'Sec-Fetch-Site': 'same-origin',\n",
    "    'User-Agent': 'Mozilla/5.0 (Windows NT 10.0; Win64; x64) AppleWebKit/537.36 (KHTML, like Gecko)\\\n",
    "          Chrome/117.0.0.0 Safari/537.36 Edg/117.0.2045.43',\n",
    "}\n"
   ]
  },
  {
   "cell_type": "code",
   "execution_count": 18,
   "metadata": {},
   "outputs": [
    {
     "data": {
      "text/plain": [
       "b'{\"is_customized\":false,\"is_login\":false,\"platform\":0,\"action_type\":2,\"error\":90309999,\"tracking_id\":\"71759af7-1d31-48ff-bf88-6d77293180b9\",\"report_extra_info\":\"\"}\\n'"
      ]
     },
     "execution_count": 18,
     "metadata": {},
     "output_type": "execute_result"
    }
   ],
   "source": []
  }
 ],
 "metadata": {
  "kernelspec": {
   "display_name": "Python 3",
   "language": "python",
   "name": "python3"
  },
  "language_info": {
   "codemirror_mode": {
    "name": "ipython",
    "version": 3
   },
   "file_extension": ".py",
   "mimetype": "text/x-python",
   "name": "python",
   "nbconvert_exporter": "python",
   "pygments_lexer": "ipython3",
   "version": "3.9.0"
  },
  "orig_nbformat": 4
 },
 "nbformat": 4,
 "nbformat_minor": 2
}
